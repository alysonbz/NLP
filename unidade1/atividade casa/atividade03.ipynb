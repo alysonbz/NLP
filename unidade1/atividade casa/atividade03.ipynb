{
 "cells": [
  {
   "cell_type": "markdown",
   "id": "6426c8df",
   "metadata": {},
   "source": [
    "## Atividade regular expression"
   ]
  },
  {
   "cell_type": "code",
   "execution_count": 23,
   "id": "d21e7a0e",
   "metadata": {},
   "outputs": [],
   "source": [
    "import re"
   ]
  },
  {
   "cell_type": "markdown",
   "id": "d0d7fb18",
   "metadata": {},
   "source": [
    "1. Contagem de Correspondências: Escreva um programa que conte quantas vezes a palavra \"Python\" aparece em uma determinada string usando expressões regulares."
   ]
  },
  {
   "cell_type": "code",
   "execution_count": 24,
   "id": "2202d3db",
   "metadata": {},
   "outputs": [
    {
     "name": "stdout",
     "output_type": "stream",
     "text": [
      "A palavra 'Python' aparece 3 vezes.\n"
     ]
    }
   ],
   "source": [
    "texto = \"Python é simples e completo. Eu gosto de Python! Python é uma ótima linguagem de programação.\"\n",
    "ocorrencias = re.findall(r\"Python\", texto)\n",
    "print(f\"A palavra 'Python' aparece {len(ocorrencias)} vezes.\")"
   ]
  },
  {
   "cell_type": "markdown",
   "id": "1bcae0a1",
   "metadata": {},
   "source": [
    "2. Validação de E-mail: Crie uma função que valide se um dado texto representa um endereço de e-mail válido usando expressões regulares."
   ]
  },
  {
   "cell_type": "code",
   "execution_count": 25,
   "id": "c5b9d9fd",
   "metadata": {},
   "outputs": [
    {
     "name": "stdout",
     "output_type": "stream",
     "text": [
      "ariellylima1@gmail.com é válido? True\n",
      "usuario@sobrenome é válido? False\n",
      "nome.sobrenome@site.org é válido? True\n"
     ]
    }
   ],
   "source": [
    "def validar_email(email):\n",
    "    padrao = r'^[\\w\\.-]+@[\\w\\.-]+\\.\\w+$'\n",
    "    return bool(re.match(padrao, email))\n",
    "\n",
    "emails = [\"ariellylima1@gmail.com\", \"usuario@sobrenome\", \"nome.sobrenome@site.org\"]\n",
    "for em in emails:\n",
    "    print(f\"{em} é válido? {validar_email(em)}\")"
   ]
  },
  {
   "cell_type": "markdown",
   "id": "b04670c3",
   "metadata": {},
   "source": [
    "3. Extração de Números de Telefone: Escreva um programa que extraia todos os números de telefone de um texto usando expressões regulares."
   ]
  },
  {
   "cell_type": "code",
   "execution_count": 26,
   "id": "f8138640",
   "metadata": {},
   "outputs": [
    {
     "name": "stdout",
     "output_type": "stream",
     "text": [
      "Telefones encontrados: ['(85)99999-9999', '85988887777']\n"
     ]
    }
   ],
   "source": [
    "texto_tel = \"Meus números são (85)99999-9999, 85988887777\"\n",
    "telefones = re.findall(r'\\(?\\d{2}\\)?\\s?\\d{4,5}-?\\d{4}', texto_tel)\n",
    "print(\"Telefones encontrados:\", telefones)"
   ]
  },
  {
   "cell_type": "markdown",
   "id": "89229b4d",
   "metadata": {},
   "source": [
    "4. Substituição de Palavras: Crie uma função que substitua todas as ocorrências de \"gato\" por \"cachorro\" em um texto usando expressões regulares."
   ]
  },
  {
   "cell_type": "code",
   "execution_count": 27,
   "id": "64924d5f",
   "metadata": {},
   "outputs": [
    {
     "name": "stdout",
     "output_type": "stream",
     "text": [
      "Texto após substituição: O cachorro dorme enquanto outro cachorro brinca.\n"
     ]
    }
   ],
   "source": [
    "texto_animais = \"O gato dorme enquanto outro gato brinca.\"\n",
    "novo_texto = re.sub(r\"gato\", \"cachorro\", texto_animais)\n",
    "print(\"Texto após substituição:\", novo_texto)"
   ]
  },
  {
   "cell_type": "markdown",
   "id": "b2f24a6a",
   "metadata": {},
   "source": [
    "5. Extração de URLs: Escreva um programa que extraia todas as URLs de um texto usando expressões regulares."
   ]
  },
  {
   "cell_type": "code",
   "execution_count": 34,
   "id": "d26e84df",
   "metadata": {},
   "outputs": [
    {
     "name": "stdout",
     "output_type": "stream",
     "text": [
      "URLs encontradas: ['https://github.com/alysonbz/NLP/tree/arielly', 'http://www.python.org']\n"
     ]
    }
   ],
   "source": [
    "texto_urls = \"Acesse https://github.com/alysonbz/NLP/tree/arielly ou http://www.python.org para mais informações.\"\n",
    "urls = re.findall(r'https?://[^\\s]+', texto_urls)\n",
    "print(\"URLs encontradas:\", urls)"
   ]
  },
  {
   "cell_type": "markdown",
   "id": "306b978c",
   "metadata": {},
   "source": [
    "6. Verificação de Senha Segura: Crie uma função que valide se uma senha é segura ou não usando expressões regulares. Considere uma senha segura se tiver pelo menos 6 caracteres, incluindo letras maiúsculas, minúsculas, números e caracteres especiais."
   ]
  },
  {
   "cell_type": "code",
   "execution_count": 29,
   "id": "163c4ff5",
   "metadata": {},
   "outputs": [
    {
     "name": "stdout",
     "output_type": "stream",
     "text": [
      "'Abc123!' é uma senha segura? True\n",
      "'abc123' é uma senha segura? False\n",
      "'ABC123!' é uma senha segura? False\n",
      "'Abc!' é uma senha segura? False\n"
     ]
    }
   ],
   "source": [
    "def senha_segura(senha):\n",
    "    padrao = r'^(?=.*[a-z])(?=.*[A-Z])(?=.*\\d)(?=.*[\\W_]).{6,}$'\n",
    "    return bool(re.match(padrao, senha))\n",
    "\n",
    "senhas = [\"Abc123!\", \"abc123\", \"ABC123!\", \"Abc!\"]\n",
    "for s in senhas:\n",
    "    print(f\"'{s}' é uma senha segura? {senha_segura(s)}\")"
   ]
  },
  {
   "cell_type": "markdown",
   "id": "867e0f51",
   "metadata": {},
   "source": [
    "7. Extração de Palavras: Escreva uma função que extraia todas as palavras de uma string usando expressões regulares."
   ]
  },
  {
   "cell_type": "code",
   "execution_count": 30,
   "id": "c37558c1",
   "metadata": {},
   "outputs": [
    {
     "name": "stdout",
     "output_type": "stream",
     "text": [
      "Palavras encontradas: ['Aprender', 'Python', 'é', 'muito', 'divertido']\n"
     ]
    }
   ],
   "source": [
    "texto_palavras = \"Aprender Python é muito divertido!\"\n",
    "palavras = re.findall(r'\\b\\w+\\b', texto_palavras)\n",
    "print(\"Palavras encontradas:\", palavras)"
   ]
  },
  {
   "cell_type": "markdown",
   "id": "0dde9680",
   "metadata": {},
   "source": [
    "8. Validação de Data: Crie uma função que valide se uma data está no formato \"dd/mm/aaaa\" usando expressões regulares."
   ]
  },
  {
   "cell_type": "code",
   "execution_count": 31,
   "id": "a963d2ce",
   "metadata": {},
   "outputs": [
    {
     "name": "stdout",
     "output_type": "stream",
     "text": [
      " 14/10/2025 é uma data válida? True\n",
      " 32/01/2024 é uma data válida? False\n",
      " 01/13/2022 é uma data válida? False\n"
     ]
    }
   ],
   "source": [
    "def validar_data(data):\n",
    "    padrao = r'^(0[1-9]|[12][0-9]|3[01])/(0[1-9]|1[0-2])/[0-9]{4}$'\n",
    "    return bool(re.match(padrao, data))\n",
    "\n",
    "datas = [\"14/10/2025\", \"32/01/2024\", \"01/13/2022\"]\n",
    "for d in datas:\n",
    "    print(f\" {d} é uma data válida? {validar_data(d)}\")"
   ]
  },
  {
   "cell_type": "markdown",
   "id": "4b753406",
   "metadata": {},
   "source": [
    "9. Extração de Nomes Próprios: Escreva um programa que extraia todos os nomes próprios (palavras iniciadas por maiúsculas) de um texto usando expressões regulares."
   ]
  },
  {
   "cell_type": "code",
   "execution_count": 32,
   "id": "12bafcde",
   "metadata": {},
   "outputs": [
    {
     "name": "stdout",
     "output_type": "stream",
     "text": [
      "Nomes próprios encontrados: ['Maria', 'João', 'Ceará', 'Ana', 'Clara']\n"
     ]
    }
   ],
   "source": [
    "texto_nomes = \"Maria e João foram ao Ceará visitar Ana Clara.\"\n",
    "nomes_proprios = re.findall(r'\\b[A-Z][a-záéíóúãõç]+\\b', texto_nomes)\n",
    "print(\"Nomes próprios encontrados:\", nomes_proprios)"
   ]
  },
  {
   "cell_type": "markdown",
   "id": "d9bcdc22",
   "metadata": {},
   "source": [
    "10. Contagem de Vogais: Crie uma função que conte o número de vogais em uma string usando expressões regulares."
   ]
  },
  {
   "cell_type": "code",
   "execution_count": 38,
   "id": "10c5b573",
   "metadata": {},
   "outputs": [
    {
     "name": "stdout",
     "output_type": "stream",
     "text": [
      "O texto tem 12 vogais.\n"
     ]
    }
   ],
   "source": [
    "def contar_vogais(texto):\n",
    "    vogais = re.findall(r'[aeiouAEIOU]', texto)\n",
    "    return len(vogais)\n",
    "\n",
    "texto_vogais = \"Expressões regulares são importantes!\"\n",
    "print(f\"O texto tem {contar_vogais(texto_vogais)} vogais.\")"
   ]
  }
 ],
 "metadata": {
  "kernelspec": {
   "display_name": "Python 3",
   "language": "python",
   "name": "python3"
  },
  "language_info": {
   "codemirror_mode": {
    "name": "ipython",
    "version": 3
   },
   "file_extension": ".py",
   "mimetype": "text/x-python",
   "name": "python",
   "nbconvert_exporter": "python",
   "pygments_lexer": "ipython3",
   "version": "3.10.8"
  }
 },
 "nbformat": 4,
 "nbformat_minor": 5
}
