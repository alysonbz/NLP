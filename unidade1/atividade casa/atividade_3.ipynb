{
 "cells": [
  {
   "cell_type": "code",
   "execution_count": 2,
   "id": "88d82f54",
   "metadata": {},
   "outputs": [
    {
     "name": "stdout",
     "output_type": "stream",
     "text": [
      "<re.Match object; span=(0, 9), match='mineracao'>\n"
     ]
    }
   ],
   "source": [
    "import re \n",
    "\n",
    "resp = re.match('mineracao', 'mineracao de dados')\n",
    "print(resp)"
   ]
  },
  {
   "cell_type": "code",
   "execution_count": 4,
   "id": "0ffc06c4",
   "metadata": {},
   "outputs": [
    {
     "name": "stdout",
     "output_type": "stream",
     "text": [
      "None\n"
     ]
    }
   ],
   "source": [
    "import re \n",
    "\n",
    "resp = re.match('dados', 'mineracao de dados')\n",
    "print(resp)"
   ]
  },
  {
   "cell_type": "code",
   "execution_count": 5,
   "id": "9b5e3cb5",
   "metadata": {},
   "outputs": [
    {
     "name": "stdout",
     "output_type": "stream",
     "text": [
      "<re.Match object; span=(0, 6), match='semana'>\n"
     ]
    }
   ],
   "source": [
    "word_regex = \"\\w+\"\n",
    "resp = re.match(word_regex, \"semana de aula\")\n",
    "print(resp)"
   ]
  },
  {
   "cell_type": "code",
   "execution_count": 6,
   "id": "a5e3f4f9",
   "metadata": {},
   "outputs": [
    {
     "name": "stdout",
     "output_type": "stream",
     "text": [
      "<re.Match object; span=(0, 1), match='s'>\n"
     ]
    }
   ],
   "source": [
    "word_regex = \"\\w+\"\n",
    "resp = re.match(word_regex, \"s emana de aula\")\n",
    "print(resp)"
   ]
  },
  {
   "cell_type": "code",
   "execution_count": null,
   "id": "dbfabd84",
   "metadata": {},
   "outputs": [
    {
     "name": "stdout",
     "output_type": "stream",
     "text": [
      "<re.Match object; span=(0, 1), match='s'>\n"
     ]
    }
   ],
   "source": [
    "word_regex = \"\\w\"\n",
    "resp = re.match(word_regex, \"semana de aula\")\n",
    "print(resp)\n"
   ]
  },
  {
   "cell_type": "code",
   "execution_count": 8,
   "id": "c8a43ad5",
   "metadata": {},
   "outputs": [
    {
     "name": "stdout",
     "output_type": "stream",
     "text": [
      "<re.Match object; span=(0, 1), match='4'>\n"
     ]
    }
   ],
   "source": [
    "word_regex = \"\\d\"\n",
    "resp = re.match(word_regex, \"42semana de aula\")\n",
    "print(resp)"
   ]
  },
  {
   "cell_type": "code",
   "execution_count": 9,
   "id": "95f6c7c2",
   "metadata": {},
   "outputs": [
    {
     "name": "stdout",
     "output_type": "stream",
     "text": [
      "<re.Match object; span=(0, 2), match='42'>\n"
     ]
    }
   ],
   "source": [
    "word_regex = \"\\d+\"\n",
    "resp = re.match(word_regex, \"42semana de aula\")\n",
    "print(resp)"
   ]
  },
  {
   "cell_type": "code",
   "execution_count": 5,
   "id": "deb62a2c",
   "metadata": {},
   "outputs": [
    {
     "name": "stdout",
     "output_type": "stream",
     "text": [
      "Padrão não encontrado no início da string.\n"
     ]
    }
   ],
   "source": [
    "padrao = r'Universidade'\n",
    "texto = \"universidade federal do ceara\"\n",
    "resultado = re.match(padrao, texto)\n",
    "\n",
    "if resultado:\n",
    "    print(\"Padrão encontrado do início da string.\")\n",
    "else:\n",
    "    print(\"Padrão não encontrado no início da string.\")"
   ]
  },
  {
   "cell_type": "code",
   "execution_count": 14,
   "id": "219fe745",
   "metadata": {},
   "outputs": [
    {
     "name": "stdout",
     "output_type": "stream",
     "text": [
      "123.456.789-00 é um CPF válido.\n"
     ]
    }
   ],
   "source": [
    "import re \n",
    "\n",
    "def validar_cpf(cpf):\n",
    "    padrao = r'^\\d{3}\\.\\d{3}\\.\\d{3}-\\d{2}$'\n",
    "    return bool(re.match(padrao,cpf))\n",
    "\n",
    "cpf = \"123.456.789-00\"\n",
    "\n",
    "if validar_cpf(cpf):\n",
    "    print(f\"{cpf} é um CPF válido.\")\n",
    "else:\n",
    "    print(f\"{cpf} não é um CPF válido.\")"
   ]
  },
  {
   "cell_type": "code",
   "execution_count": 15,
   "id": "e8f487b7",
   "metadata": {},
   "outputs": [
    {
     "name": "stdout",
     "output_type": "stream",
     "text": [
      "['semana', 'de', 'aula']\n"
     ]
    }
   ],
   "source": [
    "word_regex = \"\\s+\"\n",
    "resp = re.split(word_regex, \"semana de aula\")\n",
    "print(resp)"
   ]
  },
  {
   "cell_type": "code",
   "execution_count": 16,
   "id": "bab412aa",
   "metadata": {},
   "outputs": [
    {
     "name": "stdout",
     "output_type": "stream",
     "text": [
      "['semana quente', ' de aula']\n"
     ]
    }
   ],
   "source": [
    "word_regex = r\"\\!\"\n",
    "resp = re.split(word_regex, \"semana quente! de aula\")\n",
    "print(resp)"
   ]
  },
  {
   "cell_type": "code",
   "execution_count": 17,
   "id": "580b2574",
   "metadata": {},
   "outputs": [
    {
     "name": "stdout",
     "output_type": "stream",
     "text": [
      "['S', '', '', '', '', ' Q', '', '', '', '', '! D', ' A', '', '', '']\n"
     ]
    }
   ],
   "source": [
    "word_regex = r\"[a-z]\"\n",
    "resp = re.split(word_regex, \"Semana Quente! De Aula\")\n",
    "print(resp)"
   ]
  },
  {
   "cell_type": "code",
   "execution_count": 18,
   "id": "cf6afbf6",
   "metadata": {},
   "outputs": [
    {
     "name": "stdout",
     "output_type": "stream",
     "text": [
      "['4 S', ' Q', '! De A', '']\n"
     ]
    }
   ],
   "source": [
    "word_regex = r\"[a-z]\\w+\"\n",
    "resp = re.split(word_regex, \"4 Semanas Quente! De Aula\")\n",
    "print(resp)"
   ]
  },
  {
   "cell_type": "code",
   "execution_count": 19,
   "id": "b0f6eca2",
   "metadata": {},
   "outputs": [
    {
     "name": "stdout",
     "output_type": "stream",
     "text": [
      "['emanas', 'uente', 'ula']\n"
     ]
    }
   ],
   "source": [
    "word_regex = r\"[a-z]\\w+\"\n",
    "resp = re.findall(word_regex, \"4 Semanas Quente! De Aula\")\n",
    "print(resp)"
   ]
  },
  {
   "cell_type": "code",
   "execution_count": 20,
   "id": "f3d63763",
   "metadata": {},
   "outputs": [
    {
     "name": "stdout",
     "output_type": "stream",
     "text": [
      "Números encontrados: ['123', '456']\n"
     ]
    }
   ],
   "source": [
    "padrao = r\"\\d+\"\n",
    "texto = \"123 abc 456 def\"\n",
    "\n",
    "numeros = re.findall(padrao, texto)\n",
    "\n",
    "print(\"Números encontrados:\", numeros)"
   ]
  }
 ],
 "metadata": {
  "kernelspec": {
   "display_name": ".venv",
   "language": "python",
   "name": "python3"
  },
  "language_info": {
   "codemirror_mode": {
    "name": "ipython",
    "version": 3
   },
   "file_extension": ".py",
   "mimetype": "text/x-python",
   "name": "python",
   "nbconvert_exporter": "python",
   "pygments_lexer": "ipython3",
   "version": "3.13.7"
  }
 },
 "nbformat": 4,
 "nbformat_minor": 5
}
