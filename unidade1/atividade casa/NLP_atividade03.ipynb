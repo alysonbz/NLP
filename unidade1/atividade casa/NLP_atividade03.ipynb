{
  "nbformat": 4,
  "nbformat_minor": 0,
  "metadata": {
    "colab": {
      "provenance": []
    },
    "kernelspec": {
      "name": "python3",
      "display_name": "Python 3"
    },
    "language_info": {
      "name": "python"
    }
  },
  "cells": [
    {
      "cell_type": "markdown",
      "source": [
        "# **AULA 4 - Atividade regular expression**\n",
        "\n",
        "\n"
      ],
      "metadata": {
        "id": "vKXSIIPXjcK3"
      }
    },
    {
      "cell_type": "code",
      "execution_count": 26,
      "metadata": {
        "id": "KMpX2tQeiSs3"
      },
      "outputs": [],
      "source": [
        "import re\n",
        "from datetime import datetime"
      ]
    },
    {
      "cell_type": "markdown",
      "source": [
        "1. Contagem de Correspondências: Escreva um programa que conte quantas vezes a palavra \"Python\" aparece em uma determinada string usando expressões regulares."
      ],
      "metadata": {
        "id": "WJHnl8qhwUUc"
      }
    },
    {
      "cell_type": "code",
      "source": [
        "# 1 - Contagem de correspondências\n",
        "def contar_python(texto):\n",
        "    return len(re.findall(r\"\\bPython\\b\", texto, flags=re.IGNORECASE))"
      ],
      "metadata": {
        "id": "dd8_2ZdGjmH9"
      },
      "execution_count": 27,
      "outputs": []
    },
    {
      "cell_type": "markdown",
      "source": [
        "2. Validação de E-mail: Crie uma função que valide se um dado texto representa um endereço de e-mail válido usando expressões regulares."
      ],
      "metadata": {
        "id": "4cgUtiydwXhI"
      }
    },
    {
      "cell_type": "code",
      "source": [
        "# 2 - Validação de e-mail\n",
        "email_rgx = re.compile(r\"^[A-Za-z0-9._%+-]+@[A-Za-z0-9.-]+\\.[A-Za-z]{2,}$\")\n",
        "def email_valido(s):\n",
        "    return bool(email_rgx.match(s))"
      ],
      "metadata": {
        "id": "N7AkUx4Lj021"
      },
      "execution_count": 28,
      "outputs": []
    },
    {
      "cell_type": "markdown",
      "source": [
        "3. Extração de Números de Telefone: Escreva um programa que extraia todos os números de telefone de um texto usando expressões regulares."
      ],
      "metadata": {
        "id": "GZSfyAhbwlst"
      }
    },
    {
      "cell_type": "code",
      "source": [
        "# 3 - Extração de números de telefone\n",
        "fone_rgx = re.compile(r\"(?:\\+?\\d{1,3}\\s*)?(?:\\(?\\d{2}\\)?\\s*)?(?:9?\\d{4})[-\\s]?\\d{4}\")\n",
        "def extrair_telefones(texto):\n",
        "    return fone_rgx.findall(texto)"
      ],
      "metadata": {
        "id": "zlM_HBhBkKFk"
      },
      "execution_count": 29,
      "outputs": []
    },
    {
      "cell_type": "markdown",
      "source": [
        "4. Substituição de Palavras: Crie uma função que substitua todas as ocorrências de \"gato\" por \"cachorro\" em um texto usando expressões regulares."
      ],
      "metadata": {
        "id": "odPMF1KmwrkX"
      }
    },
    {
      "cell_type": "code",
      "source": [
        "# 4 - Substituição de palavras\n",
        "def trocar_gato_por_cachorro(texto):\n",
        "    def repl(m):\n",
        "        return \"cachorros\" if m.group(1) else \"cachorro\"\n",
        "    return re.sub(r\"\\bgato(s)?\\b\", repl, texto, flags=re.IGNORECASE)"
      ],
      "metadata": {
        "id": "hp5d84p_kRFr"
      },
      "execution_count": 30,
      "outputs": []
    },
    {
      "cell_type": "markdown",
      "source": [
        "5. Extração de URLs: Escreva um programa que extraia todas as URLs de um texto usando expressões regulares."
      ],
      "metadata": {
        "id": "qw9cjFiMwwtv"
      }
    },
    {
      "cell_type": "code",
      "source": [
        "# 5 - Extração de URLs\n",
        "url_rgx = re.compile(r\"https?://(?:www\\.)?[\\w.-]+(?:/[^\\s)>\\]]*)?\")\n",
        "def extrair_urls(texto):\n",
        "    return url_rgx.findall(texto)"
      ],
      "metadata": {
        "id": "I0rDqWQ_kdDr"
      },
      "execution_count": 31,
      "outputs": []
    },
    {
      "cell_type": "markdown",
      "source": [
        "6. Verificação de Senha Segura: Crie uma função que valide se uma senha é segura ou não usando expressões regulares. Considere uma senha segura se tiver pelo menos 6 caracteres, incluindo letras maiúsculas, minúsculas, números e caracteres especiais."
      ],
      "metadata": {
        "id": "b2gvJWxzw0b1"
      }
    },
    {
      "cell_type": "code",
      "source": [
        "# 6 - Verificação de senha segura\n",
        "senha_rgx = re.compile(r\"^(?=.*[a-z])(?=.*[A-Z])(?=.*\\d)(?=.*[^\\w\\s]).{8,}$\")\n",
        "def senha_forte(s):\n",
        "    return bool(senha_rgx.match(s))"
      ],
      "metadata": {
        "id": "0E-GM0_kkhYj"
      },
      "execution_count": 32,
      "outputs": []
    },
    {
      "cell_type": "markdown",
      "source": [
        "7. Extração de Palavras: Escreva uma função que extraia todas as palavras de uma string usando expressões regulares."
      ],
      "metadata": {
        "id": "O7ABIAKYw39Q"
      }
    },
    {
      "cell_type": "code",
      "source": [
        "# 7 - Extração de palavras\n",
        "def extrair_palavras(texto):\n",
        "    return re.findall(r\"\\b[\\wÀ-ÿ]+\\b\", texto, flags=re.UNICODE)"
      ],
      "metadata": {
        "id": "O2Py15hJkqAz"
      },
      "execution_count": 33,
      "outputs": []
    },
    {
      "cell_type": "markdown",
      "source": [
        "8. Validação de Data: Crie uma função que valide se uma data está no formato \"dd/mm/aaaa\" usando expressões regulares."
      ],
      "metadata": {
        "id": "iFkRAx5Lw8F4"
      }
    },
    {
      "cell_type": "code",
      "source": [
        "# 8 - Validação de data\n",
        "data_rgx = re.compile(r\"^(0[1-9]|[12]\\d|3[01])/(0[1-9]|1[0-2])/(19|20)\\d{2}$\")\n",
        "def data_valida(data_str):\n",
        "    if not data_rgx.match(data_str):\n",
        "        return False\n",
        "    try:\n",
        "        datetime.strptime(data_str, \"%d/%m/%Y\")\n",
        "        return True\n",
        "    except ValueError:\n",
        "        return False"
      ],
      "metadata": {
        "id": "SX6CzumMlC-K"
      },
      "execution_count": 34,
      "outputs": []
    },
    {
      "cell_type": "markdown",
      "source": [
        "9. Extração de Nomes Próprios: Escreva um programa que extraia todos os nomes próprios (palavras iniciadas por maiúsculas) de um texto usando expressões regulares."
      ],
      "metadata": {
        "id": "ji_bi7k9w_wU"
      }
    },
    {
      "cell_type": "code",
      "source": [
        "# 9 - Extração de nomes próprios\n",
        "def extrair_nomes_proprios(texto):\n",
        "    return re.findall(r\"\\b[A-ZÀ-Ý][a-zà-ÿ]+\\b\", texto)"
      ],
      "metadata": {
        "id": "AX2w6RmelLDb"
      },
      "execution_count": 35,
      "outputs": []
    },
    {
      "cell_type": "markdown",
      "source": [
        "10. Contagem de Vogais: Crie uma função que conte o número de vogais em uma string usando expressões regulares."
      ],
      "metadata": {
        "id": "6GUet2fjxEz0"
      }
    },
    {
      "cell_type": "code",
      "source": [
        "# 10 - Contagem de vogais\n",
        "def contar_vogais(texto):\n",
        "    vogais = re.findall(r\"[aeiouáéíóúâêôãõAEIOUÁÉÍÓÚÂÊÔÃÕ]\", texto)\n",
        "    return len(vogais)"
      ],
      "metadata": {
        "id": "ySV3id31lMgj"
      },
      "execution_count": 36,
      "outputs": []
    },
    {
      "cell_type": "markdown",
      "source": [
        "Exemplos de uso:"
      ],
      "metadata": {
        "id": "PRTGkH9VxRO0"
      }
    },
    {
      "cell_type": "code",
      "source": [
        "# Ex:.\n",
        "if __name__ == \"__main__\":\n",
        "    t = \"Python é ótimo. Eu amo python! Meu e-mail é mari.oliv+cd@ufc.br\"\n",
        "    print(\"1 - A palavra python aparece\", contar_python(t), \"vezes\")\n",
        "\n",
        "    print(\"2 - Teste 1:\", email_valido(\"mari.olv+cd@ufc.br\"))\n",
        "    print(\"2 - Teste 2:\", email_valido(\"mari@@br\"))\n",
        "\n",
        "    fones_txt = \"Me liga no (85) 99888-7777, no 998887777 ou +55 61 3653-2092\"\n",
        "    print(\"3 -\", extrair_telefones(fones_txt))\n",
        "\n",
        "    print(\"4 -\", trocar_gato_por_cachorro(\"Vi dois gatos e um gato.\"))\n",
        "\n",
        "    urls_txt = \"Veja http://exemplo.com e https://www.ufc.br/editais (top!).\"\n",
        "    print(\"5 -\", extrair_urls(urls_txt))\n",
        "\n",
        "    print(\"6 -\", senha_forte(\"Ma1@1234\"), senha_forte(\"senhaFraca\"))\n",
        "\n",
        "    print(\"7 -\", extrair_palavras(\"Olá, mundo! Dados 2025: UFC – Ciência de Dados\"))\n",
        "\n",
        "    print(\"8 -\", data_valida(\"30/06/2004\"), data_valida(\"08.08.1998\"))\n",
        "\n",
        "    print(\"9 -\", extrair_nomes_proprios(\"Marilia Oliveira estudou na Universidade Federal do Ceará\"))\n",
        "\n",
        "    print(\"10 - A frase 'Informação é poder' contem \", contar_vogais(\"Informação é poder\"), \"vogais\")"
      ],
      "metadata": {
        "colab": {
          "base_uri": "https://localhost:8080/"
        },
        "id": "BfbSqk6DlHgj",
        "outputId": "b5c5f287-781b-4b3c-8668-7774c7909fc4"
      },
      "execution_count": 37,
      "outputs": [
        {
          "output_type": "stream",
          "name": "stdout",
          "text": [
            "1 - A palavra python aparece 2 vezes\n",
            "2 - Teste 1: True\n",
            "2 - Teste 2: False\n",
            "3 - ['(85) 99888-7777', '998887777', '+55 61 3653-2092']\n",
            "4 - Vi dois cachorros e um cachorro.\n",
            "5 - ['http://exemplo.com', 'https://www.ufc.br/editais']\n",
            "6 - True False\n",
            "7 - ['Olá', 'mundo', 'Dados', '2025', 'UFC', 'Ciência', 'de', 'Dados']\n",
            "8 - True False\n",
            "9 - ['Marilia', 'Oliveira', 'Universidade', 'Federal', 'Ceará']\n",
            "10 - A frase 'Informação é poder' contem  8 vogais\n"
          ]
        }
      ]
    }
  ]
}