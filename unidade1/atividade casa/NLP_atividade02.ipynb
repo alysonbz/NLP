{
  "nbformat": 4,
  "nbformat_minor": 0,
  "metadata": {
    "colab": {
      "provenance": [],
      "toc_visible": true
    },
    "kernelspec": {
      "name": "python3",
      "display_name": "Python 3"
    },
    "language_info": {
      "name": "python"
    }
  },
  "cells": [
    {
      "cell_type": "markdown",
      "source": [
        "# **AULA 3 - Expressões Regulares**"
      ],
      "metadata": {
        "id": "mY9lk1iN53gL"
      }
    },
    {
      "cell_type": "markdown",
      "source": [
        "re.**match**(patter, string, flags-0)\n",
        "\n",
        "Se zero ou mais caracteres no início da string corresponderem ao padrão pattern da expressão regular retorna um objeto correspondência encontrado. Retorne None  se a string não corresponde ao padrão; observe que isso é diferente de uma correspondência zero."
      ],
      "metadata": {
        "id": "Jvi7OxJ18cYH"
      }
    },
    {
      "cell_type": "code",
      "source": [
        "import re\n",
        "\n",
        "resp = re.match('mineracao', 'mineracao de dados')\n",
        "print(resp)"
      ],
      "metadata": {
        "colab": {
          "base_uri": "https://localhost:8080/"
        },
        "id": "P-LC2yTe9YBj",
        "outputId": "3b92ebfa-f4e8-4650-cf36-4c3a6b725351"
      },
      "execution_count": 70,
      "outputs": [
        {
          "output_type": "stream",
          "name": "stdout",
          "text": [
            "<re.Match object; span=(0, 9), match='mineracao'>\n"
          ]
        }
      ]
    },
    {
      "cell_type": "code",
      "source": [
        "resp = re.match('dados', 'mineracao de dados')\n",
        "print(resp)"
      ],
      "metadata": {
        "colab": {
          "base_uri": "https://localhost:8080/"
        },
        "id": "vIke39HO51SY",
        "outputId": "c821322a-8d61-47ae-82d3-9967ca8ba5fb"
      },
      "execution_count": 71,
      "outputs": [
        {
          "output_type": "stream",
          "name": "stdout",
          "text": [
            "None\n"
          ]
        }
      ]
    },
    {
      "cell_type": "code",
      "source": [
        "word_regex = r'\\w+'\n",
        "resp = re.match(word_regex, \"semana de aula\")\n",
        "print(resp)"
      ],
      "metadata": {
        "colab": {
          "base_uri": "https://localhost:8080/"
        },
        "id": "_Gogz89k-Fs2",
        "outputId": "70cae537-771c-4120-fbca-d6c329103b6f"
      },
      "execution_count": 72,
      "outputs": [
        {
          "output_type": "stream",
          "name": "stdout",
          "text": [
            "<re.Match object; span=(0, 6), match='semana'>\n"
          ]
        }
      ]
    },
    {
      "cell_type": "code",
      "source": [
        "word_regex = r'\\w+'\n",
        "resp = re.match(word_regex, \"s mana de aula\")\n",
        "print(resp)"
      ],
      "metadata": {
        "colab": {
          "base_uri": "https://localhost:8080/"
        },
        "id": "-wU6X40a_NdG",
        "outputId": "93586f77-850f-49aa-8bdc-69ebcb8ca4d5"
      },
      "execution_count": 73,
      "outputs": [
        {
          "output_type": "stream",
          "name": "stdout",
          "text": [
            "<re.Match object; span=(0, 1), match='s'>\n"
          ]
        }
      ]
    },
    {
      "cell_type": "code",
      "source": [
        "word_regex = r'\\w'\n",
        "resp = re.match(word_regex, \"semana de aula\")\n",
        "print(resp)"
      ],
      "metadata": {
        "colab": {
          "base_uri": "https://localhost:8080/"
        },
        "id": "oJaDsQ1ADvpc",
        "outputId": "901bec3c-426e-4147-b3c4-4c65abf58e44"
      },
      "execution_count": 74,
      "outputs": [
        {
          "output_type": "stream",
          "name": "stdout",
          "text": [
            "<re.Match object; span=(0, 1), match='s'>\n"
          ]
        }
      ]
    },
    {
      "cell_type": "code",
      "source": [
        "word_regex = r'\\d'\n",
        "resp = re.match(word_regex, \"42mana de aula\")\n",
        "print(resp)"
      ],
      "metadata": {
        "colab": {
          "base_uri": "https://localhost:8080/"
        },
        "id": "j-2EE8-dDyoK",
        "outputId": "c65412cd-6fda-4ad6-ff1b-f31ca455da14"
      },
      "execution_count": 75,
      "outputs": [
        {
          "output_type": "stream",
          "name": "stdout",
          "text": [
            "<re.Match object; span=(0, 1), match='4'>\n"
          ]
        }
      ]
    },
    {
      "cell_type": "code",
      "source": [
        "word_regex = r'\\d+'\n",
        "resp = re.match(word_regex, \"42mana de aula\")\n",
        "print(resp)"
      ],
      "metadata": {
        "colab": {
          "base_uri": "https://localhost:8080/"
        },
        "id": "W6RQN6BDD7j4",
        "outputId": "98a60926-bfca-48b2-f93a-d3ea3d963bae"
      },
      "execution_count": 76,
      "outputs": [
        {
          "output_type": "stream",
          "name": "stdout",
          "text": [
            "<re.Match object; span=(0, 2), match='42'>\n"
          ]
        }
      ]
    },
    {
      "cell_type": "code",
      "source": [
        "padrao = r'Universidade'\n",
        "texto = 'Universidade ferderal do ceara'\n",
        "\n",
        "resultado = re.match(padrao, texto)\n",
        "\n",
        "if resultado:\n",
        "  print('Padrão encontrado no início da string.')\n",
        "\n",
        "else:\n",
        "  print('Padrão não encontrado no início da string.')\n"
      ],
      "metadata": {
        "colab": {
          "base_uri": "https://localhost:8080/"
        },
        "id": "29Tstc1ZEBac",
        "outputId": "640743b8-d791-4589-de1e-fc57f7092feb"
      },
      "execution_count": 77,
      "outputs": [
        {
          "output_type": "stream",
          "name": "stdout",
          "text": [
            "Padrão encontrado no início da string.\n"
          ]
        }
      ]
    },
    {
      "cell_type": "code",
      "source": [
        "def validar_cpf(cpf):\n",
        "  padrao = r'^\\d{3}\\.\\d{3}\\.\\d{3}\\-\\d{2}$'\n",
        "  return bool(re.match(padrao, cpf))\n",
        "\n",
        "  cpf = '123.456.789-00'\n",
        "\n",
        "  if validar_cpf(cpf):\n",
        "    print(f'{cpf} é um CPF válido')\n",
        "  else:\n",
        "    print(f'{cpf} é um CPF inválido')\n",
        "\n",
        "print(validar_cpf('110.449.763-89'))"
      ],
      "metadata": {
        "id": "BLw8mPUzEbVo",
        "colab": {
          "base_uri": "https://localhost:8080/"
        },
        "outputId": "465c727d-bb1b-4fc0-8563-4dc1010b1c98"
      },
      "execution_count": 88,
      "outputs": [
        {
          "output_type": "stream",
          "name": "stdout",
          "text": [
            "True\n"
          ]
        }
      ]
    },
    {
      "cell_type": "markdown",
      "source": [
        "re.**split**(patter, string, maxsplit=0, flags=0)\n",
        "Divide a string pelas ocorrências do padrão pattern. Se parênteses de captura forem usados em pattern, o texto de todos os grupos no padrão também será retornado como parte da lista resultante. Se maxsplit for diferente de zero, no máximo maxsplit divisões ocorerão e o restante da string será retornado como o elemento final da lista."
      ],
      "metadata": {
        "id": "F4yTSj-LFOI9"
      }
    },
    {
      "cell_type": "code",
      "source": [
        "word_regex = r'\\s+'\n",
        "resp = re.split(word_regex, 'semana de aula')\n",
        "print(resp)"
      ],
      "metadata": {
        "colab": {
          "base_uri": "https://localhost:8080/"
        },
        "id": "H1_93DY3FLx-",
        "outputId": "b2b8aea4-c365-41af-ba31-e183a3c9a486"
      },
      "execution_count": 79,
      "outputs": [
        {
          "output_type": "stream",
          "name": "stdout",
          "text": [
            "['semana', 'de', 'aula']\n"
          ]
        }
      ]
    },
    {
      "cell_type": "code",
      "source": [
        "word_regex = r'\\!'\n",
        "resp = re.split(word_regex, 'semana quente! de aula')\n",
        "print(resp)"
      ],
      "metadata": {
        "colab": {
          "base_uri": "https://localhost:8080/"
        },
        "id": "F5lSGzxR6S5e",
        "outputId": "1463f915-5f6d-462b-f00d-cbb4957055c5"
      },
      "execution_count": 80,
      "outputs": [
        {
          "output_type": "stream",
          "name": "stdout",
          "text": [
            "['semana quente', ' de aula']\n"
          ]
        }
      ]
    },
    {
      "cell_type": "code",
      "source": [
        "word_regex = r'[a-z]'\n",
        "resp = re.split(word_regex, 'Semana Quente! De Aula')\n",
        "print(resp)"
      ],
      "metadata": {
        "colab": {
          "base_uri": "https://localhost:8080/"
        },
        "id": "IbgzAoZ46dB1",
        "outputId": "ac36a5f8-8a73-4a87-a392-e43dd1db0f86"
      },
      "execution_count": 81,
      "outputs": [
        {
          "output_type": "stream",
          "name": "stdout",
          "text": [
            "['S', '', '', '', '', ' Q', '', '', '', '', '! D', ' A', '', '', '']\n"
          ]
        }
      ]
    },
    {
      "cell_type": "code",
      "source": [
        "word_regex = r'[a-z]\\w+'\n",
        "resp = re.split(word_regex, '4 Semanas Quente! De Aula')\n",
        "print(resp)"
      ],
      "metadata": {
        "colab": {
          "base_uri": "https://localhost:8080/"
        },
        "id": "DhHr5RGS6sDs",
        "outputId": "eb5b71e5-42ef-449c-c1bb-6405525fc830"
      },
      "execution_count": 82,
      "outputs": [
        {
          "output_type": "stream",
          "name": "stdout",
          "text": [
            "['4 S', ' Q', '! De A', '']\n"
          ]
        }
      ]
    },
    {
      "cell_type": "markdown",
      "source": [
        "re.**findall**(padrão, strig, flags = 0)\n",
        "Retorna todas as correspondências não sobrepostas do padrão de string, como uma lista de strings ou tuplas. A string é verificada da esquerda para a direita e as correpondências são retornadas na ordem encontrada. Correspondências vazias são inclídas no resultado.\n",
        "\n",
        "O resultado depende do número de grupos de captura no padrão. Se não houver grupos, retorne uma lista de strings que correspondem a todo padrão. Se houver exatamente um grupo, retorne uma lista de strings correspondentes aos grupos. grupos sem captura não afetam a forma do resultado."
      ],
      "metadata": {
        "id": "2t9MO-2T64HM"
      }
    },
    {
      "cell_type": "code",
      "source": [
        "word_regex = r'[a-z]\\w+'\n",
        "resp = re.findall(word_regex, '4 Semanas Quente! De Aula')\n",
        "print(resp)"
      ],
      "metadata": {
        "colab": {
          "base_uri": "https://localhost:8080/"
        },
        "id": "i2b8tB887Jbr",
        "outputId": "f8fe2d7e-f693-4465-93e0-a53a25856012"
      },
      "execution_count": 83,
      "outputs": [
        {
          "output_type": "stream",
          "name": "stdout",
          "text": [
            "['emanas', 'uente', 'ula']\n"
          ]
        }
      ]
    },
    {
      "cell_type": "code",
      "source": [
        "padrao = r'\\d+'\n",
        "texto = '123 abc 456 def'\n",
        "\n",
        "numeros = re.findall(padrao, texto)\n",
        "print('Números encontrados:', numeros)"
      ],
      "metadata": {
        "colab": {
          "base_uri": "https://localhost:8080/"
        },
        "id": "-L4uTWFk8tCU",
        "outputId": "e9909208-1916-4cb3-b6db-e8bedc778f01"
      },
      "execution_count": 85,
      "outputs": [
        {
          "output_type": "stream",
          "name": "stdout",
          "text": [
            "Números encontrados: ['123', '456']\n"
          ]
        }
      ]
    },
    {
      "cell_type": "markdown",
      "source": [
        "re.**search**(pattern, string, flags=0)\n",
        "Percorre a string procurando o primeiro local onde o padrão pattern de expressão regular produz uma correspondência e retorna um objeto correspondência encontrado. Retorna None se nenhuma posição na string corresponder ao padrão; observe que isso é diferente de encontrar uma correspondência de comprimento zero de algum ponto da string."
      ],
      "metadata": {
        "id": "T02j3Ezc9NCb"
      }
    }
  ]
}