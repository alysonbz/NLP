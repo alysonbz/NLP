{
  "nbformat": 4,
  "nbformat_minor": 0,
  "metadata": {
    "colab": {
      "provenance": [],
      "toc_visible": true
    },
    "kernelspec": {
      "name": "python3",
      "display_name": "Python 3"
    },
    "language_info": {
      "name": "python"
    }
  },
  "cells": [
    {
      "cell_type": "markdown",
      "source": [
        "# **AULA 3 - Expressões Regulares**"
      ],
      "metadata": {
        "id": "mY9lk1iN53gL"
      }
    },
    {
      "cell_type": "markdown",
      "source": [
        "re.**match**(patter, string, flags-0)\n",
        "\n",
        "Se zero ou mais caracteres no início da string corresponderem ao padrão pattern da expressão regular retorna um objeto correspondência encontrado. Retorne None  se a string não corresponde ao padrão; observe que isso é diferente de uma correspondência zero."
      ],
      "metadata": {
        "id": "Jvi7OxJ18cYH"
      }
    },
    {
      "cell_type": "code",
      "source": [
        "import re\n",
        "\n",
        "resp = re.match('mineracao', 'mineracao de dados')\n",
        "print(resp)"
      ],
      "metadata": {
        "colab": {
          "base_uri": "https://localhost:8080/"
        },
        "id": "P-LC2yTe9YBj",
        "outputId": "1cfbfd20-a888-45c8-c9c2-13df70c148a2"
      },
      "execution_count": null,
      "outputs": [
        {
          "output_type": "stream",
          "name": "stdout",
          "text": [
            "<re.Match object; span=(0, 9), match='mineracao'>\n"
          ]
        }
      ]
    },
    {
      "cell_type": "code",
      "source": [
        "resp = re.match('dados', 'mineracao de dados')\n",
        "print(resp)"
      ],
      "metadata": {
        "colab": {
          "base_uri": "https://localhost:8080/"
        },
        "id": "vIke39HO51SY",
        "outputId": "ea9c2c0f-0b74-4bc0-9480-d916d2bacddc"
      },
      "execution_count": null,
      "outputs": [
        {
          "output_type": "stream",
          "name": "stdout",
          "text": [
            "None\n"
          ]
        }
      ]
    },
    {
      "cell_type": "code",
      "source": [
        "word_regex = '\\w+'\n",
        "resp = re.match(word_regex, \"semana de aula\")\n",
        "print(resp)"
      ],
      "metadata": {
        "colab": {
          "base_uri": "https://localhost:8080/"
        },
        "id": "_Gogz89k-Fs2",
        "outputId": "7cd434ed-3f46-4d1b-ff5a-f299afdf1645"
      },
      "execution_count": null,
      "outputs": [
        {
          "output_type": "stream",
          "name": "stdout",
          "text": [
            "<re.Match object; span=(0, 6), match='semana'>\n"
          ]
        },
        {
          "output_type": "stream",
          "name": "stderr",
          "text": [
            "<>:1: SyntaxWarning: invalid escape sequence '\\w'\n",
            "<>:1: SyntaxWarning: invalid escape sequence '\\w'\n",
            "/tmp/ipython-input-1031671940.py:1: SyntaxWarning: invalid escape sequence '\\w'\n",
            "  word_regex = '\\w+'\n"
          ]
        }
      ]
    },
    {
      "cell_type": "code",
      "source": [
        "word_regex = '\\w+'\n",
        "resp = re.match(word_regex, \"s mana de aula\")\n",
        "print(resp)"
      ],
      "metadata": {
        "colab": {
          "base_uri": "https://localhost:8080/"
        },
        "id": "-wU6X40a_NdG",
        "outputId": "3ccfbfa0-ce60-4d22-be5a-7d9fbeff5de7"
      },
      "execution_count": null,
      "outputs": [
        {
          "output_type": "stream",
          "name": "stdout",
          "text": [
            "<re.Match object; span=(0, 1), match='s'>\n"
          ]
        },
        {
          "output_type": "stream",
          "name": "stderr",
          "text": [
            "<>:1: SyntaxWarning: invalid escape sequence '\\w'\n",
            "<>:1: SyntaxWarning: invalid escape sequence '\\w'\n",
            "/tmp/ipython-input-2588765838.py:1: SyntaxWarning: invalid escape sequence '\\w'\n",
            "  word_regex = '\\w+'\n"
          ]
        }
      ]
    },
    {
      "cell_type": "code",
      "source": [
        "word_regex = '\\w'\n",
        "resp = re.match(word_regex, \"semana de aula\")\n",
        "print(resp)"
      ],
      "metadata": {
        "colab": {
          "base_uri": "https://localhost:8080/"
        },
        "id": "oJaDsQ1ADvpc",
        "outputId": "d0ac33e9-ebf5-40b7-a7d1-811aa8141b54"
      },
      "execution_count": null,
      "outputs": [
        {
          "output_type": "stream",
          "name": "stdout",
          "text": [
            "<re.Match object; span=(0, 1), match='s'>\n"
          ]
        },
        {
          "output_type": "stream",
          "name": "stderr",
          "text": [
            "<>:1: SyntaxWarning: invalid escape sequence '\\w'\n",
            "<>:1: SyntaxWarning: invalid escape sequence '\\w'\n",
            "/tmp/ipython-input-251202867.py:1: SyntaxWarning: invalid escape sequence '\\w'\n",
            "  word_regex = '\\w'\n"
          ]
        }
      ]
    },
    {
      "cell_type": "code",
      "source": [
        "word_regex = '\\d'\n",
        "resp = re.match(word_regex, \"42mana de aula\")\n",
        "print(resp)"
      ],
      "metadata": {
        "colab": {
          "base_uri": "https://localhost:8080/"
        },
        "id": "j-2EE8-dDyoK",
        "outputId": "7da267af-7b2b-4f40-8373-2222cd7e836c"
      },
      "execution_count": null,
      "outputs": [
        {
          "output_type": "stream",
          "name": "stdout",
          "text": [
            "<re.Match object; span=(0, 1), match='4'>\n"
          ]
        },
        {
          "output_type": "stream",
          "name": "stderr",
          "text": [
            "<>:1: SyntaxWarning: invalid escape sequence '\\d'\n",
            "<>:1: SyntaxWarning: invalid escape sequence '\\d'\n",
            "/tmp/ipython-input-914357632.py:1: SyntaxWarning: invalid escape sequence '\\d'\n",
            "  word_regex = '\\d'\n"
          ]
        }
      ]
    },
    {
      "cell_type": "code",
      "source": [
        "word_regex = '\\d+'\n",
        "resp = re.match(word_regex, \"42mana de aula\")\n",
        "print(resp)"
      ],
      "metadata": {
        "colab": {
          "base_uri": "https://localhost:8080/"
        },
        "id": "W6RQN6BDD7j4",
        "outputId": "880f9bea-014d-4377-bbe4-1fa210e797c8"
      },
      "execution_count": null,
      "outputs": [
        {
          "output_type": "stream",
          "name": "stdout",
          "text": [
            "<re.Match object; span=(0, 2), match='42'>\n"
          ]
        },
        {
          "output_type": "stream",
          "name": "stderr",
          "text": [
            "<>:1: SyntaxWarning: invalid escape sequence '\\d'\n",
            "<>:1: SyntaxWarning: invalid escape sequence '\\d'\n",
            "/tmp/ipython-input-1725790228.py:1: SyntaxWarning: invalid escape sequence '\\d'\n",
            "  word_regex = '\\d+'\n"
          ]
        }
      ]
    },
    {
      "cell_type": "code",
      "source": [
        "padrao = r'Universidade'\n",
        "texto = 'Universidade ferderal do ceara'\n",
        "\n",
        "resultado = re.match(padrao, texto)\n",
        "\n",
        "if resultado:\n",
        "  print('Padrão encontrado no início da string.')\n",
        "\n",
        "else:\n",
        "  print('Padrão não encontrado no início da string.')\n"
      ],
      "metadata": {
        "colab": {
          "base_uri": "https://localhost:8080/"
        },
        "id": "29Tstc1ZEBac",
        "outputId": "a8029194-80ea-45ad-e95c-04a6015616b3"
      },
      "execution_count": null,
      "outputs": [
        {
          "output_type": "stream",
          "name": "stdout",
          "text": [
            "Padrão encontrado no início da string.\n"
          ]
        }
      ]
    },
    {
      "cell_type": "code",
      "source": [
        "def validar_cpf(cpf):\n",
        "  padrao = r'^\\d{3}\\.\\d{3}\\.\\d{3}\\-\\d{2}$'\n",
        "  return bool(re.match(padrao, cpf))\n",
        "\n",
        "  cpf = '123.456.789-00'\n",
        "\n",
        "  if validar_cpf(cpf):\n",
        "    print(f'{cpf} é um CPF válido')\n",
        "  else:\n",
        "    print(f'{cpf} é um CPF inválido')"
      ],
      "metadata": {
        "id": "BLw8mPUzEbVo"
      },
      "execution_count": null,
      "outputs": []
    },
    {
      "cell_type": "markdown",
      "source": [
        "re.**split**(patter, string, maxsplit=0, flags=0)\n",
        "Divide a string pelas ocorrências do padrão pattern. Se parênteses de captura forem usados em pattern, o texto de todos os grupos no padrão também será retornado como parte da lista resultante. Se maxsplit for diferente de zero, no máximo maxsplit divisões ocorerão e o restante da string será retornado como o elemento final da lista."
      ],
      "metadata": {
        "id": "F4yTSj-LFOI9"
      }
    },
    {
      "cell_type": "code",
      "source": [
        "word_regex = '\\s+'\n",
        "resp = re.split(word_regex, 'semana de aula')\n",
        "print(resp)"
      ],
      "metadata": {
        "colab": {
          "base_uri": "https://localhost:8080/"
        },
        "id": "H1_93DY3FLx-",
        "outputId": "76e86302-975e-4738-82d6-06b0404444d2"
      },
      "execution_count": null,
      "outputs": [
        {
          "output_type": "stream",
          "name": "stdout",
          "text": [
            "['semana', 'de', 'aula']\n"
          ]
        },
        {
          "output_type": "stream",
          "name": "stderr",
          "text": [
            "<>:1: SyntaxWarning: invalid escape sequence '\\s'\n",
            "<>:1: SyntaxWarning: invalid escape sequence '\\s'\n",
            "/tmp/ipython-input-2146549594.py:1: SyntaxWarning: invalid escape sequence '\\s'\n",
            "  word_regex = '\\s+'\n"
          ]
        }
      ]
    },
    {
      "cell_type": "code",
      "source": [
        "word_regex = r'\\!'\n",
        "resp = re.split(word_regex, 'semana quente! de aula')\n",
        "print(resp)"
      ],
      "metadata": {
        "colab": {
          "base_uri": "https://localhost:8080/"
        },
        "id": "F5lSGzxR6S5e",
        "outputId": "563a7788-531e-4693-a9ad-118e84cb35b4"
      },
      "execution_count": null,
      "outputs": [
        {
          "output_type": "stream",
          "name": "stdout",
          "text": [
            "['semana quente', ' de aula']\n"
          ]
        }
      ]
    },
    {
      "cell_type": "code",
      "source": [
        "word_regex = r'[a-z]'\n",
        "resp = re.split(word_regex, 'Semana Quente! De Aula')\n",
        "print(resp)"
      ],
      "metadata": {
        "colab": {
          "base_uri": "https://localhost:8080/"
        },
        "id": "IbgzAoZ46dB1",
        "outputId": "c5ba3d8f-fc42-4cdd-f3d0-63ddd903ce4c"
      },
      "execution_count": null,
      "outputs": [
        {
          "output_type": "stream",
          "name": "stdout",
          "text": [
            "['S', '', '', '', '', ' Q', '', '', '', '', '! D', ' A', '', '', '']\n"
          ]
        }
      ]
    },
    {
      "cell_type": "code",
      "source": [
        "word_regex = r'[a-z]\\w+'\n",
        "resp = re.split(word_regex, '4 Semanas Quente! De Aula')\n",
        "print(resp)"
      ],
      "metadata": {
        "colab": {
          "base_uri": "https://localhost:8080/"
        },
        "id": "DhHr5RGS6sDs",
        "outputId": "929dbde5-bef9-49f9-eef1-3ac12ee287e4"
      },
      "execution_count": null,
      "outputs": [
        {
          "output_type": "stream",
          "name": "stdout",
          "text": [
            "['4 S', ' Q', '! De A', '']\n"
          ]
        }
      ]
    },
    {
      "cell_type": "markdown",
      "source": [
        "re.**findall**(padrão, strig, flags = 0)\n",
        "Retorna todas as correspondências não sobrepostas do padrão de string, como uma lista de strings ou tuplas. A string é verificada da esquerda para a direita e as correpondências são retornadas na ordem encontrada. Correspondências vazias são inclídas no resultado.\n",
        "\n",
        "O resultado depende do número de grupos de captura no padrão. Se não houver grupos, retorne uma lista de strings que correspondem a todo padrão. Se houver exatamente um grupo, retorne uma lista de strings correspondentes aos grupos. grupos sem captura não afetam a forma do resultado."
      ],
      "metadata": {
        "id": "2t9MO-2T64HM"
      }
    },
    {
      "cell_type": "code",
      "source": [
        "word_regex = r'[a-z]\\w+'\n",
        "resp = re.findall(word_regex, '4 Semanas Quente! De Aula')\n",
        "print(resp)"
      ],
      "metadata": {
        "colab": {
          "base_uri": "https://localhost:8080/"
        },
        "id": "i2b8tB887Jbr",
        "outputId": "2ef0c9fc-7d6f-4276-fd36-4b449d541dd7"
      },
      "execution_count": null,
      "outputs": [
        {
          "output_type": "stream",
          "name": "stdout",
          "text": [
            "['emanas', 'uente', 'ula']\n"
          ]
        }
      ]
    },
    {
      "cell_type": "code",
      "source": [
        "word_regex = r'[a-z]\\w+'\n",
        "resp = re.findall(word_regex, '4 Semanas Quente! De Aula')\n",
        "print(resp)"
      ],
      "metadata": {
        "id": "c-zlK5M260-c"
      },
      "execution_count": null,
      "outputs": []
    },
    {
      "cell_type": "code",
      "source": [
        "padrao = r'\\d+'\n",
        "texto = '123 abc 456 def'\n",
        "\n",
        "numeros = re.findall(padrao, texto)\n",
        "print('Números encontrados:', numeros)"
      ],
      "metadata": {
        "colab": {
          "base_uri": "https://localhost:8080/"
        },
        "id": "-L4uTWFk8tCU",
        "outputId": "82944bef-9991-41ce-9fef-f8f9d92ff7c4"
      },
      "execution_count": null,
      "outputs": [
        {
          "output_type": "stream",
          "name": "stdout",
          "text": [
            "Números encontrados: ['123', '456']\n"
          ]
        }
      ]
    },
    {
      "cell_type": "markdown",
      "source": [
        "re.**search**(pattern, string, flags=0)\n",
        "Percorre a string procurando o primeiro local onde o padrão pattern de expressão regular produz uma correspondência e retorna um objeto correspondência encontrado. Retorna None se nenhuma posição na string corresponder ao padrão; observe que isso é diferente de encontrar uma correspondência de comprimento zero de algum ponto da string."
      ],
      "metadata": {
        "id": "T02j3Ezc9NCb"
      }
    }
  ]
}