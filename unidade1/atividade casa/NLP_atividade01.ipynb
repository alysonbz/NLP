{
  "nbformat": 4,
  "nbformat_minor": 0,
  "metadata": {
    "colab": {
      "provenance": [],
      "toc_visible": true
    },
    "kernelspec": {
      "name": "python3",
      "display_name": "Python 3"
    },
    "language_info": {
      "name": "python"
    }
  },
  "cells": [
    {
      "cell_type": "markdown",
      "source": [
        "# **AULA 2** - Atividade 01"
      ],
      "metadata": {
        "id": "UiiyTa-y5Sl7"
      }
    },
    {
      "cell_type": "markdown",
      "source": [
        "\n",
        "\n",
        "1.   NLTK\n",
        "2.   SpaCy\n",
        "3.   Envelvo\n",
        "\n"
      ],
      "metadata": {
        "id": "wPBtFajg5f51"
      }
    },
    {
      "cell_type": "code",
      "source": [
        "!pip install nltk"
      ],
      "metadata": {
        "colab": {
          "base_uri": "https://localhost:8080/"
        },
        "id": "TlHLq4nTzfnz",
        "outputId": "41d3a831-ab50-47c3-b0cf-01a813bdbb3b",
        "collapsed": true
      },
      "execution_count": 43,
      "outputs": [
        {
          "output_type": "stream",
          "name": "stdout",
          "text": [
            "Requirement already satisfied: nltk in /usr/local/lib/python3.12/dist-packages (3.9.1)\n",
            "Requirement already satisfied: click in /usr/local/lib/python3.12/dist-packages (from nltk) (8.3.0)\n",
            "Requirement already satisfied: joblib in /usr/local/lib/python3.12/dist-packages (from nltk) (1.5.2)\n",
            "Requirement already satisfied: regex>=2021.8.3 in /usr/local/lib/python3.12/dist-packages (from nltk) (2024.11.6)\n",
            "Requirement already satisfied: tqdm in /usr/local/lib/python3.12/dist-packages (from nltk) (4.67.1)\n"
          ]
        }
      ]
    },
    {
      "cell_type": "code",
      "execution_count": 44,
      "metadata": {
        "colab": {
          "base_uri": "https://localhost:8080/"
        },
        "id": "7riS0Gk_yVST",
        "outputId": "57f79baa-6e0d-464b-f0ec-b99125d49ca1",
        "collapsed": true
      },
      "outputs": [
        {
          "output_type": "stream",
          "name": "stderr",
          "text": [
            "[nltk_data] Downloading package stopwords to /root/nltk_data...\n",
            "[nltk_data]   Package stopwords is already up-to-date!\n"
          ]
        }
      ],
      "source": [
        "# importando a biblioteca\n",
        "import nltk\n",
        "\n",
        "# baixar as stopwords\n",
        "nltk.download('stopwords')\n",
        "\n",
        "# para escolher as stopwords do português adicionamos a opção da lingua \"Portuguese\"\n",
        "stopwords = nltk.corpus.stopwords.words('portuguese')"
      ]
    },
    {
      "cell_type": "code",
      "source": [
        "!pip install spacy"
      ],
      "metadata": {
        "colab": {
          "base_uri": "https://localhost:8080/",
          "height": 1000
        },
        "id": "a_0pPMnjzX2I",
        "outputId": "d7941255-4397-4177-e7e5-92ba723cc843",
        "collapsed": true
      },
      "execution_count": 45,
      "outputs": [
        {
          "output_type": "stream",
          "name": "stdout",
          "text": [
            "Requirement already satisfied: spacy in /usr/local/lib/python3.12/dist-packages (3.8.7)\n",
            "Requirement already satisfied: spacy-legacy<3.1.0,>=3.0.11 in /usr/local/lib/python3.12/dist-packages (from spacy) (3.0.12)\n",
            "Requirement already satisfied: spacy-loggers<2.0.0,>=1.0.0 in /usr/local/lib/python3.12/dist-packages (from spacy) (1.0.5)\n",
            "Requirement already satisfied: murmurhash<1.1.0,>=0.28.0 in /usr/local/lib/python3.12/dist-packages (from spacy) (1.0.13)\n",
            "Requirement already satisfied: cymem<2.1.0,>=2.0.2 in /usr/local/lib/python3.12/dist-packages (from spacy) (2.0.11)\n",
            "Requirement already satisfied: preshed<3.1.0,>=3.0.2 in /usr/local/lib/python3.12/dist-packages (from spacy) (3.0.10)\n",
            "Requirement already satisfied: thinc<8.4.0,>=8.3.4 in /usr/local/lib/python3.12/dist-packages (from spacy) (8.3.6)\n",
            "Requirement already satisfied: wasabi<1.2.0,>=0.9.1 in /usr/local/lib/python3.12/dist-packages (from spacy) (1.1.3)\n",
            "Requirement already satisfied: srsly<3.0.0,>=2.4.3 in /usr/local/lib/python3.12/dist-packages (from spacy) (2.5.1)\n",
            "Requirement already satisfied: catalogue<2.1.0,>=2.0.6 in /usr/local/lib/python3.12/dist-packages (from spacy) (2.0.10)\n",
            "Requirement already satisfied: weasel<0.5.0,>=0.1.0 in /usr/local/lib/python3.12/dist-packages (from spacy) (0.4.1)\n",
            "Requirement already satisfied: typer<1.0.0,>=0.3.0 in /usr/local/lib/python3.12/dist-packages (from spacy) (0.19.2)\n",
            "Requirement already satisfied: tqdm<5.0.0,>=4.38.0 in /usr/local/lib/python3.12/dist-packages (from spacy) (4.67.1)\n",
            "Requirement already satisfied: numpy>=1.19.0 in /usr/local/lib/python3.12/dist-packages (from spacy) (1.26.4)\n",
            "Requirement already satisfied: requests<3.0.0,>=2.13.0 in /usr/local/lib/python3.12/dist-packages (from spacy) (2.32.4)\n",
            "Requirement already satisfied: pydantic!=1.8,!=1.8.1,<3.0.0,>=1.7.4 in /usr/local/lib/python3.12/dist-packages (from spacy) (2.11.10)\n",
            "Requirement already satisfied: jinja2 in /usr/local/lib/python3.12/dist-packages (from spacy) (3.1.6)\n",
            "Requirement already satisfied: setuptools in /usr/local/lib/python3.12/dist-packages (from spacy) (75.2.0)\n",
            "Requirement already satisfied: packaging>=20.0 in /usr/local/lib/python3.12/dist-packages (from spacy) (25.0)\n",
            "Requirement already satisfied: langcodes<4.0.0,>=3.2.0 in /usr/local/lib/python3.12/dist-packages (from spacy) (3.5.0)\n",
            "Requirement already satisfied: language-data>=1.2 in /usr/local/lib/python3.12/dist-packages (from langcodes<4.0.0,>=3.2.0->spacy) (1.3.0)\n",
            "Requirement already satisfied: annotated-types>=0.6.0 in /usr/local/lib/python3.12/dist-packages (from pydantic!=1.8,!=1.8.1,<3.0.0,>=1.7.4->spacy) (0.7.0)\n",
            "Requirement already satisfied: pydantic-core==2.33.2 in /usr/local/lib/python3.12/dist-packages (from pydantic!=1.8,!=1.8.1,<3.0.0,>=1.7.4->spacy) (2.33.2)\n",
            "Requirement already satisfied: typing-extensions>=4.12.2 in /usr/local/lib/python3.12/dist-packages (from pydantic!=1.8,!=1.8.1,<3.0.0,>=1.7.4->spacy) (4.15.0)\n",
            "Requirement already satisfied: typing-inspection>=0.4.0 in /usr/local/lib/python3.12/dist-packages (from pydantic!=1.8,!=1.8.1,<3.0.0,>=1.7.4->spacy) (0.4.2)\n",
            "Requirement already satisfied: charset_normalizer<4,>=2 in /usr/local/lib/python3.12/dist-packages (from requests<3.0.0,>=2.13.0->spacy) (3.4.3)\n",
            "Requirement already satisfied: idna<4,>=2.5 in /usr/local/lib/python3.12/dist-packages (from requests<3.0.0,>=2.13.0->spacy) (3.10)\n",
            "Requirement already satisfied: urllib3<3,>=1.21.1 in /usr/local/lib/python3.12/dist-packages (from requests<3.0.0,>=2.13.0->spacy) (2.5.0)\n",
            "Requirement already satisfied: certifi>=2017.4.17 in /usr/local/lib/python3.12/dist-packages (from requests<3.0.0,>=2.13.0->spacy) (2025.10.5)\n",
            "Requirement already satisfied: blis<1.4.0,>=1.3.0 in /usr/local/lib/python3.12/dist-packages (from thinc<8.4.0,>=8.3.4->spacy) (1.3.0)\n",
            "Requirement already satisfied: confection<1.0.0,>=0.0.1 in /usr/local/lib/python3.12/dist-packages (from thinc<8.4.0,>=8.3.4->spacy) (0.1.5)\n",
            "Collecting numpy>=1.19.0 (from spacy)\n",
            "  Using cached numpy-2.3.4-cp312-cp312-manylinux_2_27_x86_64.manylinux_2_28_x86_64.whl.metadata (62 kB)\n",
            "Requirement already satisfied: click>=8.0.0 in /usr/local/lib/python3.12/dist-packages (from typer<1.0.0,>=0.3.0->spacy) (8.3.0)\n",
            "Requirement already satisfied: shellingham>=1.3.0 in /usr/local/lib/python3.12/dist-packages (from typer<1.0.0,>=0.3.0->spacy) (1.5.4)\n",
            "Requirement already satisfied: rich>=10.11.0 in /usr/local/lib/python3.12/dist-packages (from typer<1.0.0,>=0.3.0->spacy) (13.9.4)\n",
            "Requirement already satisfied: cloudpathlib<1.0.0,>=0.7.0 in /usr/local/lib/python3.12/dist-packages (from weasel<0.5.0,>=0.1.0->spacy) (0.23.0)\n",
            "Requirement already satisfied: smart-open<8.0.0,>=5.2.1 in /usr/local/lib/python3.12/dist-packages (from weasel<0.5.0,>=0.1.0->spacy) (7.3.1)\n",
            "Requirement already satisfied: MarkupSafe>=2.0 in /usr/local/lib/python3.12/dist-packages (from jinja2->spacy) (3.0.3)\n",
            "Requirement already satisfied: marisa-trie>=1.1.0 in /usr/local/lib/python3.12/dist-packages (from language-data>=1.2->langcodes<4.0.0,>=3.2.0->spacy) (1.3.1)\n",
            "Requirement already satisfied: markdown-it-py>=2.2.0 in /usr/local/lib/python3.12/dist-packages (from rich>=10.11.0->typer<1.0.0,>=0.3.0->spacy) (4.0.0)\n",
            "Requirement already satisfied: pygments<3.0.0,>=2.13.0 in /usr/local/lib/python3.12/dist-packages (from rich>=10.11.0->typer<1.0.0,>=0.3.0->spacy) (2.19.2)\n",
            "Requirement already satisfied: wrapt in /usr/local/lib/python3.12/dist-packages (from smart-open<8.0.0,>=5.2.1->weasel<0.5.0,>=0.1.0->spacy) (1.17.3)\n",
            "Requirement already satisfied: mdurl~=0.1 in /usr/local/lib/python3.12/dist-packages (from markdown-it-py>=2.2.0->rich>=10.11.0->typer<1.0.0,>=0.3.0->spacy) (0.1.2)\n",
            "Using cached numpy-2.3.4-cp312-cp312-manylinux_2_27_x86_64.manylinux_2_28_x86_64.whl (16.6 MB)\n",
            "Installing collected packages: numpy\n",
            "  Attempting uninstall: numpy\n",
            "    Found existing installation: numpy 1.26.4\n",
            "    Uninstalling numpy-1.26.4:\n",
            "      Successfully uninstalled numpy-1.26.4\n",
            "\u001b[31mERROR: pip's dependency resolver does not currently take into account all the packages that are installed. This behaviour is the source of the following dependency conflicts.\n",
            "gensim 4.3.3 requires numpy<2.0,>=1.18.5, but you have numpy 2.3.4 which is incompatible.\n",
            "scipy 1.11.4 requires numpy<1.28.0,>=1.21.6, but you have numpy 2.3.4 which is incompatible.\n",
            "opencv-python-headless 4.12.0.88 requires numpy<2.3.0,>=2; python_version >= \"3.9\", but you have numpy 2.3.4 which is incompatible.\n",
            "tsfresh 0.21.1 requires scipy>=1.14.0; python_version >= \"3.10\", but you have scipy 1.11.4 which is incompatible.\n",
            "numba 0.60.0 requires numpy<2.1,>=1.22, but you have numpy 2.3.4 which is incompatible.\n",
            "tensorflow 2.19.0 requires numpy<2.2.0,>=1.26.0, but you have numpy 2.3.4 which is incompatible.\n",
            "cupy-cuda12x 13.3.0 requires numpy<2.3,>=1.22, but you have numpy 2.3.4 which is incompatible.\n",
            "opencv-python 4.12.0.88 requires numpy<2.3.0,>=2; python_version >= \"3.9\", but you have numpy 2.3.4 which is incompatible.\n",
            "opencv-contrib-python 4.12.0.88 requires numpy<2.3.0,>=2; python_version >= \"3.9\", but you have numpy 2.3.4 which is incompatible.\u001b[0m\u001b[31m\n",
            "\u001b[0mSuccessfully installed numpy-2.3.4\n"
          ]
        },
        {
          "output_type": "display_data",
          "data": {
            "application/vnd.colab-display-data+json": {
              "pip_warning": {
                "packages": [
                  "numpy"
                ]
              },
              "id": "90c1899fe53e4064b94b8901d32203f8"
            }
          },
          "metadata": {}
        }
      ]
    },
    {
      "cell_type": "code",
      "source": [
        "# para baixar o modelo em português\n",
        "!python -m spacy download pt_core_news_sm"
      ],
      "metadata": {
        "colab": {
          "base_uri": "https://localhost:8080/"
        },
        "id": "jOnWT-H70HOU",
        "outputId": "72fc69f9-7c89-4063-db1e-1f9132e9564a",
        "collapsed": true
      },
      "execution_count": 46,
      "outputs": [
        {
          "output_type": "stream",
          "name": "stdout",
          "text": [
            "/usr/local/lib/python3.12/dist-packages/scipy/__init__.py:132: UserWarning: A NumPy version >=1.21.6 and <1.28.0 is required for this version of SciPy (detected version 2.3.4)\n",
            "  warnings.warn(f\"A NumPy version >={np_minversion} and <{np_maxversion}\"\n",
            "\n",
            "A module that was compiled using NumPy 1.x cannot be run in\n",
            "NumPy 2.3.4 as it may crash. To support both 1.x and 2.x\n",
            "versions of NumPy, modules must be compiled with NumPy 2.0.\n",
            "Some module may need to rebuild instead e.g. with 'pybind11>=2.12'.\n",
            "\n",
            "If you are a user of the module, the easiest solution will be to\n",
            "downgrade to 'numpy<2' or try to upgrade the affected module.\n",
            "We expect that some modules will need time to support NumPy 2.\n",
            "\n",
            "Traceback (most recent call last):  File \"<frozen runpy>\", line 189, in _run_module_as_main\n",
            "  File \"<frozen runpy>\", line 148, in _get_module_details\n",
            "  File \"<frozen runpy>\", line 112, in _get_module_details\n",
            "  File \"/usr/local/lib/python3.12/dist-packages/spacy/__init__.py\", line 6, in <module>\n",
            "    from .errors import setup_default_warnings\n",
            "  File \"/usr/local/lib/python3.12/dist-packages/spacy/errors.py\", line 3, in <module>\n",
            "    from .compat import Literal\n",
            "  File \"/usr/local/lib/python3.12/dist-packages/spacy/compat.py\", line 4, in <module>\n",
            "    from thinc.util import copy_array\n",
            "  File \"/usr/local/lib/python3.12/dist-packages/thinc/__init__.py\", line 5, in <module>\n",
            "    from .config import registry\n",
            "  File \"/usr/local/lib/python3.12/dist-packages/thinc/config.py\", line 2, in <module>\n",
            "    import confection\n",
            "  File \"/usr/local/lib/python3.12/dist-packages/confection/__init__.py\", line 35, in <module>\n",
            "    import srsly\n",
            "  File \"/usr/local/lib/python3.12/dist-packages/srsly/__init__.py\", line 5, in <module>\n",
            "    from ._msgpack_api import read_msgpack, write_msgpack, msgpack_dumps, msgpack_loads\n",
            "  File \"/usr/local/lib/python3.12/dist-packages/srsly/_msgpack_api.py\", line 3, in <module>\n",
            "    from . import msgpack\n",
            "  File \"/usr/local/lib/python3.12/dist-packages/srsly/msgpack/__init__.py\", line 18, in <module>\n",
            "    from ._msgpack_numpy import encode_numpy as _encode_numpy\n",
            "  File \"/usr/local/lib/python3.12/dist-packages/srsly/msgpack/_msgpack_numpy.py\", line 19, in <module>\n",
            "    import cupy\n",
            "  File \"/usr/local/lib/python3.12/dist-packages/cupy/__init__.py\", line 30, in <module>\n",
            "    import cupyx as _cupyx  # NOQA\n",
            "  File \"/usr/local/lib/python3.12/dist-packages/cupyx/__init__.py\", line 8, in <module>\n",
            "    from cupyx import linalg  # NOQA\n",
            "  File \"/usr/local/lib/python3.12/dist-packages/cupyx/linalg/__init__.py\", line 2, in <module>\n",
            "    from cupyx.linalg import sparse  # NOQA\n",
            "  File \"/usr/local/lib/python3.12/dist-packages/cupyx/linalg/sparse/__init__.py\", line 3, in <module>\n",
            "    from cupyx.linalg.sparse._solve import lschol  # NOQA\n",
            "  File \"/usr/local/lib/python3.12/dist-packages/cupyx/linalg/sparse/_solve.py\", line 6, in <module>\n",
            "    from cupyx.scipy import sparse\n",
            "  File \"/usr/local/lib/python3.12/dist-packages/cupyx/scipy/__init__.py\", line 4, in <module>\n",
            "    from cupyx.scipy.sparse._base import spmatrix as _spmatrix\n",
            "  File \"/usr/local/lib/python3.12/dist-packages/cupyx/scipy/sparse/__init__.py\", line 1, in <module>\n",
            "    from cupyx.scipy.sparse._base import issparse  # NOQA\n",
            "  File \"/usr/local/lib/python3.12/dist-packages/cupyx/scipy/sparse/_base.py\", line 10, in <module>\n",
            "    import scipy.sparse as _sparse\n",
            "  File \"/usr/local/lib/python3.12/dist-packages/scipy/sparse/__init__.py\", line 274, in <module>\n",
            "    from ._csr import *\n",
            "  File \"/usr/local/lib/python3.12/dist-packages/scipy/sparse/_csr.py\", line 11, in <module>\n",
            "    from ._sparsetools import (csr_tocsc, csr_tobsr, csr_count_blocks,\n",
            "Traceback (most recent call last):\n",
            "  File \"/usr/local/lib/python3.12/dist-packages/numpy/core/_multiarray_umath.py\", line 46, in __getattr__\n",
            "    raise ImportError(msg)\n",
            "ImportError: \n",
            "A module that was compiled using NumPy 1.x cannot be run in\n",
            "NumPy 2.3.4 as it may crash. To support both 1.x and 2.x\n",
            "versions of NumPy, modules must be compiled with NumPy 2.0.\n",
            "Some module may need to rebuild instead e.g. with 'pybind11>=2.12'.\n",
            "\n",
            "If you are a user of the module, the easiest solution will be to\n",
            "downgrade to 'numpy<2' or try to upgrade the affected module.\n",
            "We expect that some modules will need time to support NumPy 2.\n",
            "\n",
            "\n",
            "\n",
            "A module that was compiled using NumPy 1.x cannot be run in\n",
            "NumPy 2.3.4 as it may crash. To support both 1.x and 2.x\n",
            "versions of NumPy, modules must be compiled with NumPy 2.0.\n",
            "Some module may need to rebuild instead e.g. with 'pybind11>=2.12'.\n",
            "\n",
            "If you are a user of the module, the easiest solution will be to\n",
            "downgrade to 'numpy<2' or try to upgrade the affected module.\n",
            "We expect that some modules will need time to support NumPy 2.\n",
            "\n",
            "Traceback (most recent call last):  File \"<frozen runpy>\", line 189, in _run_module_as_main\n",
            "  File \"<frozen runpy>\", line 148, in _get_module_details\n",
            "  File \"<frozen runpy>\", line 112, in _get_module_details\n",
            "  File \"/usr/local/lib/python3.12/dist-packages/spacy/__init__.py\", line 6, in <module>\n",
            "    from .errors import setup_default_warnings\n",
            "  File \"/usr/local/lib/python3.12/dist-packages/spacy/errors.py\", line 3, in <module>\n",
            "    from .compat import Literal\n",
            "  File \"/usr/local/lib/python3.12/dist-packages/spacy/compat.py\", line 4, in <module>\n",
            "    from thinc.util import copy_array\n",
            "  File \"/usr/local/lib/python3.12/dist-packages/thinc/__init__.py\", line 5, in <module>\n",
            "    from .config import registry\n",
            "  File \"/usr/local/lib/python3.12/dist-packages/thinc/config.py\", line 2, in <module>\n",
            "    import confection\n",
            "  File \"/usr/local/lib/python3.12/dist-packages/confection/__init__.py\", line 35, in <module>\n",
            "    import srsly\n",
            "  File \"/usr/local/lib/python3.12/dist-packages/srsly/__init__.py\", line 5, in <module>\n",
            "    from ._msgpack_api import read_msgpack, write_msgpack, msgpack_dumps, msgpack_loads\n",
            "  File \"/usr/local/lib/python3.12/dist-packages/srsly/_msgpack_api.py\", line 3, in <module>\n",
            "    from . import msgpack\n",
            "  File \"/usr/local/lib/python3.12/dist-packages/srsly/msgpack/__init__.py\", line 18, in <module>\n",
            "    from ._msgpack_numpy import encode_numpy as _encode_numpy\n",
            "  File \"/usr/local/lib/python3.12/dist-packages/srsly/msgpack/_msgpack_numpy.py\", line 19, in <module>\n",
            "    import cupy\n",
            "  File \"/usr/local/lib/python3.12/dist-packages/cupy/__init__.py\", line 30, in <module>\n",
            "    import cupyx as _cupyx  # NOQA\n",
            "  File \"/usr/local/lib/python3.12/dist-packages/cupyx/__init__.py\", line 8, in <module>\n",
            "    from cupyx import linalg  # NOQA\n",
            "  File \"/usr/local/lib/python3.12/dist-packages/cupyx/linalg/__init__.py\", line 2, in <module>\n",
            "    from cupyx.linalg import sparse  # NOQA\n",
            "  File \"/usr/local/lib/python3.12/dist-packages/cupyx/linalg/sparse/__init__.py\", line 3, in <module>\n",
            "    from cupyx.linalg.sparse._solve import lschol  # NOQA\n",
            "  File \"/usr/local/lib/python3.12/dist-packages/cupyx/linalg/sparse/_solve.py\", line 6, in <module>\n",
            "    from cupyx.scipy import sparse\n",
            "  File \"/usr/local/lib/python3.12/dist-packages/cupyx/scipy/__init__.py\", line 4, in <module>\n",
            "    from cupyx.scipy.sparse._base import spmatrix as _spmatrix\n",
            "  File \"/usr/local/lib/python3.12/dist-packages/cupyx/scipy/sparse/__init__.py\", line 6, in <module>\n",
            "    from cupyx.scipy.sparse._coo import coo_matrix  # NOQA\n",
            "  File \"/usr/local/lib/python3.12/dist-packages/cupyx/scipy/sparse/_coo.py\", line 3, in <module>\n",
            "    import scipy.sparse\n",
            "  File \"/usr/local/lib/python3.12/dist-packages/scipy/sparse/__init__.py\", line 274, in <module>\n",
            "    from ._csr import *\n",
            "  File \"/usr/local/lib/python3.12/dist-packages/scipy/sparse/_csr.py\", line 11, in <module>\n",
            "    from ._sparsetools import (csr_tocsc, csr_tobsr, csr_count_blocks,\n",
            "Traceback (most recent call last):\n",
            "  File \"/usr/local/lib/python3.12/dist-packages/numpy/core/_multiarray_umath.py\", line 46, in __getattr__\n",
            "    raise ImportError(msg)\n",
            "ImportError: \n",
            "A module that was compiled using NumPy 1.x cannot be run in\n",
            "NumPy 2.3.4 as it may crash. To support both 1.x and 2.x\n",
            "versions of NumPy, modules must be compiled with NumPy 2.0.\n",
            "Some module may need to rebuild instead e.g. with 'pybind11>=2.12'.\n",
            "\n",
            "If you are a user of the module, the easiest solution will be to\n",
            "downgrade to 'numpy<2' or try to upgrade the affected module.\n",
            "We expect that some modules will need time to support NumPy 2.\n",
            "\n",
            "\n",
            "\n",
            "A module that was compiled using NumPy 1.x cannot be run in\n",
            "NumPy 2.3.4 as it may crash. To support both 1.x and 2.x\n",
            "versions of NumPy, modules must be compiled with NumPy 2.0.\n",
            "Some module may need to rebuild instead e.g. with 'pybind11>=2.12'.\n",
            "\n",
            "If you are a user of the module, the easiest solution will be to\n",
            "downgrade to 'numpy<2' or try to upgrade the affected module.\n",
            "We expect that some modules will need time to support NumPy 2.\n",
            "\n",
            "Traceback (most recent call last):  File \"<frozen runpy>\", line 189, in _run_module_as_main\n",
            "  File \"<frozen runpy>\", line 148, in _get_module_details\n",
            "  File \"<frozen runpy>\", line 112, in _get_module_details\n",
            "  File \"/usr/local/lib/python3.12/dist-packages/spacy/__init__.py\", line 6, in <module>\n",
            "    from .errors import setup_default_warnings\n",
            "  File \"/usr/local/lib/python3.12/dist-packages/spacy/errors.py\", line 3, in <module>\n",
            "    from .compat import Literal\n",
            "  File \"/usr/local/lib/python3.12/dist-packages/spacy/compat.py\", line 4, in <module>\n",
            "    from thinc.util import copy_array\n",
            "  File \"/usr/local/lib/python3.12/dist-packages/thinc/__init__.py\", line 5, in <module>\n",
            "    from .config import registry\n",
            "  File \"/usr/local/lib/python3.12/dist-packages/thinc/config.py\", line 2, in <module>\n",
            "    import confection\n",
            "  File \"/usr/local/lib/python3.12/dist-packages/confection/__init__.py\", line 35, in <module>\n",
            "    import srsly\n",
            "  File \"/usr/local/lib/python3.12/dist-packages/srsly/__init__.py\", line 5, in <module>\n",
            "    from ._msgpack_api import read_msgpack, write_msgpack, msgpack_dumps, msgpack_loads\n",
            "  File \"/usr/local/lib/python3.12/dist-packages/srsly/_msgpack_api.py\", line 3, in <module>\n",
            "    from . import msgpack\n",
            "  File \"/usr/local/lib/python3.12/dist-packages/srsly/msgpack/__init__.py\", line 18, in <module>\n",
            "    from ._msgpack_numpy import encode_numpy as _encode_numpy\n",
            "  File \"/usr/local/lib/python3.12/dist-packages/srsly/msgpack/_msgpack_numpy.py\", line 19, in <module>\n",
            "    import cupy\n",
            "  File \"/usr/local/lib/python3.12/dist-packages/cupy/__init__.py\", line 30, in <module>\n",
            "    import cupyx as _cupyx  # NOQA\n",
            "  File \"/usr/local/lib/python3.12/dist-packages/cupyx/__init__.py\", line 8, in <module>\n",
            "    from cupyx import linalg  # NOQA\n",
            "  File \"/usr/local/lib/python3.12/dist-packages/cupyx/linalg/__init__.py\", line 2, in <module>\n",
            "    from cupyx.linalg import sparse  # NOQA\n",
            "  File \"/usr/local/lib/python3.12/dist-packages/cupyx/linalg/sparse/__init__.py\", line 3, in <module>\n",
            "    from cupyx.linalg.sparse._solve import lschol  # NOQA\n",
            "  File \"/usr/local/lib/python3.12/dist-packages/cupyx/linalg/sparse/_solve.py\", line 6, in <module>\n",
            "    from cupyx.scipy import sparse\n",
            "  File \"/usr/local/lib/python3.12/dist-packages/cupyx/scipy/__init__.py\", line 4, in <module>\n",
            "    from cupyx.scipy.sparse._base import spmatrix as _spmatrix\n",
            "  File \"/usr/local/lib/python3.12/dist-packages/cupyx/scipy/sparse/__init__.py\", line 6, in <module>\n",
            "    from cupyx.scipy.sparse._coo import coo_matrix  # NOQA\n",
            "  File \"/usr/local/lib/python3.12/dist-packages/cupyx/scipy/sparse/_coo.py\", line 11, in <module>\n",
            "    from cupyx.scipy.sparse import _csc\n",
            "  File \"/usr/local/lib/python3.12/dist-packages/cupyx/scipy/sparse/_csc.py\", line 2, in <module>\n",
            "    import scipy.sparse\n",
            "  File \"/usr/local/lib/python3.12/dist-packages/scipy/sparse/__init__.py\", line 274, in <module>\n",
            "    from ._csr import *\n",
            "  File \"/usr/local/lib/python3.12/dist-packages/scipy/sparse/_csr.py\", line 11, in <module>\n",
            "    from ._sparsetools import (csr_tocsc, csr_tobsr, csr_count_blocks,\n",
            "Traceback (most recent call last):\n",
            "  File \"/usr/local/lib/python3.12/dist-packages/numpy/core/_multiarray_umath.py\", line 46, in __getattr__\n",
            "    raise ImportError(msg)\n",
            "ImportError: \n",
            "A module that was compiled using NumPy 1.x cannot be run in\n",
            "NumPy 2.3.4 as it may crash. To support both 1.x and 2.x\n",
            "versions of NumPy, modules must be compiled with NumPy 2.0.\n",
            "Some module may need to rebuild instead e.g. with 'pybind11>=2.12'.\n",
            "\n",
            "If you are a user of the module, the easiest solution will be to\n",
            "downgrade to 'numpy<2' or try to upgrade the affected module.\n",
            "We expect that some modules will need time to support NumPy 2.\n",
            "\n",
            "\n",
            "\n",
            "A module that was compiled using NumPy 1.x cannot be run in\n",
            "NumPy 2.3.4 as it may crash. To support both 1.x and 2.x\n",
            "versions of NumPy, modules must be compiled with NumPy 2.0.\n",
            "Some module may need to rebuild instead e.g. with 'pybind11>=2.12'.\n",
            "\n",
            "If you are a user of the module, the easiest solution will be to\n",
            "downgrade to 'numpy<2' or try to upgrade the affected module.\n",
            "We expect that some modules will need time to support NumPy 2.\n",
            "\n",
            "Traceback (most recent call last):  File \"<frozen runpy>\", line 189, in _run_module_as_main\n",
            "  File \"<frozen runpy>\", line 148, in _get_module_details\n",
            "  File \"<frozen runpy>\", line 112, in _get_module_details\n",
            "  File \"/usr/local/lib/python3.12/dist-packages/spacy/__init__.py\", line 6, in <module>\n",
            "    from .errors import setup_default_warnings\n",
            "  File \"/usr/local/lib/python3.12/dist-packages/spacy/errors.py\", line 3, in <module>\n",
            "    from .compat import Literal\n",
            "  File \"/usr/local/lib/python3.12/dist-packages/spacy/compat.py\", line 4, in <module>\n",
            "    from thinc.util import copy_array\n",
            "  File \"/usr/local/lib/python3.12/dist-packages/thinc/__init__.py\", line 5, in <module>\n",
            "    from .config import registry\n",
            "  File \"/usr/local/lib/python3.12/dist-packages/thinc/config.py\", line 2, in <module>\n",
            "    import confection\n",
            "  File \"/usr/local/lib/python3.12/dist-packages/confection/__init__.py\", line 35, in <module>\n",
            "    import srsly\n",
            "  File \"/usr/local/lib/python3.12/dist-packages/srsly/__init__.py\", line 5, in <module>\n",
            "    from ._msgpack_api import read_msgpack, write_msgpack, msgpack_dumps, msgpack_loads\n",
            "  File \"/usr/local/lib/python3.12/dist-packages/srsly/_msgpack_api.py\", line 3, in <module>\n",
            "    from . import msgpack\n",
            "  File \"/usr/local/lib/python3.12/dist-packages/srsly/msgpack/__init__.py\", line 18, in <module>\n",
            "    from ._msgpack_numpy import encode_numpy as _encode_numpy\n",
            "  File \"/usr/local/lib/python3.12/dist-packages/srsly/msgpack/_msgpack_numpy.py\", line 19, in <module>\n",
            "    import cupy\n",
            "  File \"/usr/local/lib/python3.12/dist-packages/cupy/__init__.py\", line 30, in <module>\n",
            "    import cupyx as _cupyx  # NOQA\n",
            "  File \"/usr/local/lib/python3.12/dist-packages/cupyx/__init__.py\", line 8, in <module>\n",
            "    from cupyx import linalg  # NOQA\n",
            "  File \"/usr/local/lib/python3.12/dist-packages/cupyx/linalg/__init__.py\", line 2, in <module>\n",
            "    from cupyx.linalg import sparse  # NOQA\n",
            "  File \"/usr/local/lib/python3.12/dist-packages/cupyx/linalg/sparse/__init__.py\", line 3, in <module>\n",
            "    from cupyx.linalg.sparse._solve import lschol  # NOQA\n",
            "  File \"/usr/local/lib/python3.12/dist-packages/cupyx/linalg/sparse/_solve.py\", line 6, in <module>\n",
            "    from cupyx.scipy import sparse\n",
            "  File \"/usr/local/lib/python3.12/dist-packages/cupyx/scipy/__init__.py\", line 4, in <module>\n",
            "    from cupyx.scipy.sparse._base import spmatrix as _spmatrix\n",
            "  File \"/usr/local/lib/python3.12/dist-packages/cupyx/scipy/sparse/__init__.py\", line 6, in <module>\n",
            "    from cupyx.scipy.sparse._coo import coo_matrix  # NOQA\n",
            "  File \"/usr/local/lib/python3.12/dist-packages/cupyx/scipy/sparse/_coo.py\", line 11, in <module>\n",
            "    from cupyx.scipy.sparse import _csc\n",
            "  File \"/usr/local/lib/python3.12/dist-packages/cupyx/scipy/sparse/_csc.py\", line 12, in <module>\n",
            "    from cupyx.scipy.sparse import _compressed\n",
            "  File \"/usr/local/lib/python3.12/dist-packages/cupyx/scipy/sparse/_compressed.py\", line 6, in <module>\n",
            "    import scipy.sparse\n",
            "  File \"/usr/local/lib/python3.12/dist-packages/scipy/sparse/__init__.py\", line 274, in <module>\n",
            "    from ._csr import *\n",
            "  File \"/usr/local/lib/python3.12/dist-packages/scipy/sparse/_csr.py\", line 11, in <module>\n",
            "    from ._sparsetools import (csr_tocsc, csr_tobsr, csr_count_blocks,\n",
            "Traceback (most recent call last):\n",
            "  File \"/usr/local/lib/python3.12/dist-packages/numpy/core/_multiarray_umath.py\", line 46, in __getattr__\n",
            "    raise ImportError(msg)\n",
            "ImportError: \n",
            "A module that was compiled using NumPy 1.x cannot be run in\n",
            "NumPy 2.3.4 as it may crash. To support both 1.x and 2.x\n",
            "versions of NumPy, modules must be compiled with NumPy 2.0.\n",
            "Some module may need to rebuild instead e.g. with 'pybind11>=2.12'.\n",
            "\n",
            "If you are a user of the module, the easiest solution will be to\n",
            "downgrade to 'numpy<2' or try to upgrade the affected module.\n",
            "We expect that some modules will need time to support NumPy 2.\n",
            "\n",
            "\n",
            "\n",
            "A module that was compiled using NumPy 1.x cannot be run in\n",
            "NumPy 2.3.4 as it may crash. To support both 1.x and 2.x\n",
            "versions of NumPy, modules must be compiled with NumPy 2.0.\n",
            "Some module may need to rebuild instead e.g. with 'pybind11>=2.12'.\n",
            "\n",
            "If you are a user of the module, the easiest solution will be to\n",
            "downgrade to 'numpy<2' or try to upgrade the affected module.\n",
            "We expect that some modules will need time to support NumPy 2.\n",
            "\n",
            "Traceback (most recent call last):  File \"<frozen runpy>\", line 189, in _run_module_as_main\n",
            "  File \"<frozen runpy>\", line 148, in _get_module_details\n",
            "  File \"<frozen runpy>\", line 112, in _get_module_details\n",
            "  File \"/usr/local/lib/python3.12/dist-packages/spacy/__init__.py\", line 6, in <module>\n",
            "    from .errors import setup_default_warnings\n",
            "  File \"/usr/local/lib/python3.12/dist-packages/spacy/errors.py\", line 3, in <module>\n",
            "    from .compat import Literal\n",
            "  File \"/usr/local/lib/python3.12/dist-packages/spacy/compat.py\", line 4, in <module>\n",
            "    from thinc.util import copy_array\n",
            "  File \"/usr/local/lib/python3.12/dist-packages/thinc/__init__.py\", line 5, in <module>\n",
            "    from .config import registry\n",
            "  File \"/usr/local/lib/python3.12/dist-packages/thinc/config.py\", line 2, in <module>\n",
            "    import confection\n",
            "  File \"/usr/local/lib/python3.12/dist-packages/confection/__init__.py\", line 35, in <module>\n",
            "    import srsly\n",
            "  File \"/usr/local/lib/python3.12/dist-packages/srsly/__init__.py\", line 5, in <module>\n",
            "    from ._msgpack_api import read_msgpack, write_msgpack, msgpack_dumps, msgpack_loads\n",
            "  File \"/usr/local/lib/python3.12/dist-packages/srsly/_msgpack_api.py\", line 3, in <module>\n",
            "    from . import msgpack\n",
            "  File \"/usr/local/lib/python3.12/dist-packages/srsly/msgpack/__init__.py\", line 18, in <module>\n",
            "    from ._msgpack_numpy import encode_numpy as _encode_numpy\n",
            "  File \"/usr/local/lib/python3.12/dist-packages/srsly/msgpack/_msgpack_numpy.py\", line 19, in <module>\n",
            "    import cupy\n",
            "  File \"/usr/local/lib/python3.12/dist-packages/cupy/__init__.py\", line 30, in <module>\n",
            "    import cupyx as _cupyx  # NOQA\n",
            "  File \"/usr/local/lib/python3.12/dist-packages/cupyx/__init__.py\", line 8, in <module>\n",
            "    from cupyx import linalg  # NOQA\n",
            "  File \"/usr/local/lib/python3.12/dist-packages/cupyx/linalg/__init__.py\", line 2, in <module>\n",
            "    from cupyx.linalg import sparse  # NOQA\n",
            "  File \"/usr/local/lib/python3.12/dist-packages/cupyx/linalg/sparse/__init__.py\", line 3, in <module>\n",
            "    from cupyx.linalg.sparse._solve import lschol  # NOQA\n",
            "  File \"/usr/local/lib/python3.12/dist-packages/cupyx/linalg/sparse/_solve.py\", line 6, in <module>\n",
            "    from cupyx.scipy import sparse\n",
            "  File \"/usr/local/lib/python3.12/dist-packages/cupyx/scipy/__init__.py\", line 4, in <module>\n",
            "    from cupyx.scipy.sparse._base import spmatrix as _spmatrix\n",
            "  File \"/usr/local/lib/python3.12/dist-packages/cupyx/scipy/sparse/__init__.py\", line 6, in <module>\n",
            "    from cupyx.scipy.sparse._coo import coo_matrix  # NOQA\n",
            "  File \"/usr/local/lib/python3.12/dist-packages/cupyx/scipy/sparse/_coo.py\", line 11, in <module>\n",
            "    from cupyx.scipy.sparse import _csc\n",
            "  File \"/usr/local/lib/python3.12/dist-packages/cupyx/scipy/sparse/_csc.py\", line 12, in <module>\n",
            "    from cupyx.scipy.sparse import _compressed\n",
            "  File \"/usr/local/lib/python3.12/dist-packages/cupyx/scipy/sparse/_compressed.py\", line 23, in <module>\n",
            "    from cupyx.scipy.sparse import _index\n",
            "  File \"/usr/local/lib/python3.12/dist-packages/cupyx/scipy/sparse/_index.py\", line 16, in <module>\n",
            "    import scipy.sparse\n",
            "  File \"/usr/local/lib/python3.12/dist-packages/scipy/sparse/__init__.py\", line 274, in <module>\n",
            "    from ._csr import *\n",
            "  File \"/usr/local/lib/python3.12/dist-packages/scipy/sparse/_csr.py\", line 11, in <module>\n",
            "    from ._sparsetools import (csr_tocsc, csr_tobsr, csr_count_blocks,\n",
            "Traceback (most recent call last):\n",
            "  File \"/usr/local/lib/python3.12/dist-packages/numpy/core/_multiarray_umath.py\", line 46, in __getattr__\n",
            "    raise ImportError(msg)\n",
            "ImportError: \n",
            "A module that was compiled using NumPy 1.x cannot be run in\n",
            "NumPy 2.3.4 as it may crash. To support both 1.x and 2.x\n",
            "versions of NumPy, modules must be compiled with NumPy 2.0.\n",
            "Some module may need to rebuild instead e.g. with 'pybind11>=2.12'.\n",
            "\n",
            "If you are a user of the module, the easiest solution will be to\n",
            "downgrade to 'numpy<2' or try to upgrade the affected module.\n",
            "We expect that some modules will need time to support NumPy 2.\n",
            "\n",
            "\n",
            "\n",
            "A module that was compiled using NumPy 1.x cannot be run in\n",
            "NumPy 2.3.4 as it may crash. To support both 1.x and 2.x\n",
            "versions of NumPy, modules must be compiled with NumPy 2.0.\n",
            "Some module may need to rebuild instead e.g. with 'pybind11>=2.12'.\n",
            "\n",
            "If you are a user of the module, the easiest solution will be to\n",
            "downgrade to 'numpy<2' or try to upgrade the affected module.\n",
            "We expect that some modules will need time to support NumPy 2.\n",
            "\n",
            "Traceback (most recent call last):  File \"<frozen runpy>\", line 189, in _run_module_as_main\n",
            "  File \"<frozen runpy>\", line 148, in _get_module_details\n",
            "  File \"<frozen runpy>\", line 112, in _get_module_details\n",
            "  File \"/usr/local/lib/python3.12/dist-packages/spacy/__init__.py\", line 6, in <module>\n",
            "    from .errors import setup_default_warnings\n",
            "  File \"/usr/local/lib/python3.12/dist-packages/spacy/errors.py\", line 3, in <module>\n",
            "    from .compat import Literal\n",
            "  File \"/usr/local/lib/python3.12/dist-packages/spacy/compat.py\", line 4, in <module>\n",
            "    from thinc.util import copy_array\n",
            "  File \"/usr/local/lib/python3.12/dist-packages/thinc/__init__.py\", line 5, in <module>\n",
            "    from .config import registry\n",
            "  File \"/usr/local/lib/python3.12/dist-packages/thinc/config.py\", line 2, in <module>\n",
            "    import confection\n",
            "  File \"/usr/local/lib/python3.12/dist-packages/confection/__init__.py\", line 35, in <module>\n",
            "    import srsly\n",
            "  File \"/usr/local/lib/python3.12/dist-packages/srsly/__init__.py\", line 5, in <module>\n",
            "    from ._msgpack_api import read_msgpack, write_msgpack, msgpack_dumps, msgpack_loads\n",
            "  File \"/usr/local/lib/python3.12/dist-packages/srsly/_msgpack_api.py\", line 3, in <module>\n",
            "    from . import msgpack\n",
            "  File \"/usr/local/lib/python3.12/dist-packages/srsly/msgpack/__init__.py\", line 18, in <module>\n",
            "    from ._msgpack_numpy import encode_numpy as _encode_numpy\n",
            "  File \"/usr/local/lib/python3.12/dist-packages/srsly/msgpack/_msgpack_numpy.py\", line 19, in <module>\n",
            "    import cupy\n",
            "  File \"/usr/local/lib/python3.12/dist-packages/cupy/__init__.py\", line 30, in <module>\n",
            "    import cupyx as _cupyx  # NOQA\n",
            "  File \"/usr/local/lib/python3.12/dist-packages/cupyx/__init__.py\", line 8, in <module>\n",
            "    from cupyx import linalg  # NOQA\n",
            "  File \"/usr/local/lib/python3.12/dist-packages/cupyx/linalg/__init__.py\", line 2, in <module>\n",
            "    from cupyx.linalg import sparse  # NOQA\n",
            "  File \"/usr/local/lib/python3.12/dist-packages/cupyx/linalg/sparse/__init__.py\", line 3, in <module>\n",
            "    from cupyx.linalg.sparse._solve import lschol  # NOQA\n",
            "  File \"/usr/local/lib/python3.12/dist-packages/cupyx/linalg/sparse/_solve.py\", line 6, in <module>\n",
            "    from cupyx.scipy import sparse\n",
            "  File \"/usr/local/lib/python3.12/dist-packages/cupyx/scipy/__init__.py\", line 4, in <module>\n",
            "    from cupyx.scipy.sparse._base import spmatrix as _spmatrix\n",
            "  File \"/usr/local/lib/python3.12/dist-packages/cupyx/scipy/sparse/__init__.py\", line 6, in <module>\n",
            "    from cupyx.scipy.sparse._coo import coo_matrix  # NOQA\n",
            "  File \"/usr/local/lib/python3.12/dist-packages/cupyx/scipy/sparse/_coo.py\", line 12, in <module>\n",
            "    from cupyx.scipy.sparse import _csr\n",
            "  File \"/usr/local/lib/python3.12/dist-packages/cupyx/scipy/sparse/_csr.py\", line 7, in <module>\n",
            "    import scipy.sparse\n",
            "  File \"/usr/local/lib/python3.12/dist-packages/scipy/sparse/__init__.py\", line 274, in <module>\n",
            "    from ._csr import *\n",
            "  File \"/usr/local/lib/python3.12/dist-packages/scipy/sparse/_csr.py\", line 11, in <module>\n",
            "    from ._sparsetools import (csr_tocsc, csr_tobsr, csr_count_blocks,\n",
            "Traceback (most recent call last):\n",
            "  File \"/usr/local/lib/python3.12/dist-packages/numpy/core/_multiarray_umath.py\", line 46, in __getattr__\n",
            "    raise ImportError(msg)\n",
            "ImportError: \n",
            "A module that was compiled using NumPy 1.x cannot be run in\n",
            "NumPy 2.3.4 as it may crash. To support both 1.x and 2.x\n",
            "versions of NumPy, modules must be compiled with NumPy 2.0.\n",
            "Some module may need to rebuild instead e.g. with 'pybind11>=2.12'.\n",
            "\n",
            "If you are a user of the module, the easiest solution will be to\n",
            "downgrade to 'numpy<2' or try to upgrade the affected module.\n",
            "We expect that some modules will need time to support NumPy 2.\n",
            "\n",
            "\n",
            "\n",
            "A module that was compiled using NumPy 1.x cannot be run in\n",
            "NumPy 2.3.4 as it may crash. To support both 1.x and 2.x\n",
            "versions of NumPy, modules must be compiled with NumPy 2.0.\n",
            "Some module may need to rebuild instead e.g. with 'pybind11>=2.12'.\n",
            "\n",
            "If you are a user of the module, the easiest solution will be to\n",
            "downgrade to 'numpy<2' or try to upgrade the affected module.\n",
            "We expect that some modules will need time to support NumPy 2.\n",
            "\n",
            "Traceback (most recent call last):  File \"<frozen runpy>\", line 189, in _run_module_as_main\n",
            "  File \"<frozen runpy>\", line 148, in _get_module_details\n",
            "  File \"<frozen runpy>\", line 112, in _get_module_details\n",
            "  File \"/usr/local/lib/python3.12/dist-packages/spacy/__init__.py\", line 6, in <module>\n",
            "    from .errors import setup_default_warnings\n",
            "  File \"/usr/local/lib/python3.12/dist-packages/spacy/errors.py\", line 3, in <module>\n",
            "    from .compat import Literal\n",
            "  File \"/usr/local/lib/python3.12/dist-packages/spacy/compat.py\", line 4, in <module>\n",
            "    from thinc.util import copy_array\n",
            "  File \"/usr/local/lib/python3.12/dist-packages/thinc/__init__.py\", line 5, in <module>\n",
            "    from .config import registry\n",
            "  File \"/usr/local/lib/python3.12/dist-packages/thinc/config.py\", line 2, in <module>\n",
            "    import confection\n",
            "  File \"/usr/local/lib/python3.12/dist-packages/confection/__init__.py\", line 35, in <module>\n",
            "    import srsly\n",
            "  File \"/usr/local/lib/python3.12/dist-packages/srsly/__init__.py\", line 5, in <module>\n",
            "    from ._msgpack_api import read_msgpack, write_msgpack, msgpack_dumps, msgpack_loads\n",
            "  File \"/usr/local/lib/python3.12/dist-packages/srsly/_msgpack_api.py\", line 3, in <module>\n",
            "    from . import msgpack\n",
            "  File \"/usr/local/lib/python3.12/dist-packages/srsly/msgpack/__init__.py\", line 18, in <module>\n",
            "    from ._msgpack_numpy import encode_numpy as _encode_numpy\n",
            "  File \"/usr/local/lib/python3.12/dist-packages/srsly/msgpack/_msgpack_numpy.py\", line 19, in <module>\n",
            "    import cupy\n",
            "  File \"/usr/local/lib/python3.12/dist-packages/cupy/__init__.py\", line 30, in <module>\n",
            "    import cupyx as _cupyx  # NOQA\n",
            "  File \"/usr/local/lib/python3.12/dist-packages/cupyx/__init__.py\", line 8, in <module>\n",
            "    from cupyx import linalg  # NOQA\n",
            "  File \"/usr/local/lib/python3.12/dist-packages/cupyx/linalg/__init__.py\", line 2, in <module>\n",
            "    from cupyx.linalg import sparse  # NOQA\n",
            "  File \"/usr/local/lib/python3.12/dist-packages/cupyx/linalg/sparse/__init__.py\", line 3, in <module>\n",
            "    from cupyx.linalg.sparse._solve import lschol  # NOQA\n",
            "  File \"/usr/local/lib/python3.12/dist-packages/cupyx/linalg/sparse/_solve.py\", line 6, in <module>\n",
            "    from cupyx.scipy import sparse\n",
            "  File \"/usr/local/lib/python3.12/dist-packages/cupyx/scipy/__init__.py\", line 4, in <module>\n",
            "    from cupyx.scipy.sparse._base import spmatrix as _spmatrix\n",
            "  File \"/usr/local/lib/python3.12/dist-packages/cupyx/scipy/sparse/__init__.py\", line 12, in <module>\n",
            "    from cupyx.scipy.sparse._dia import dia_matrix  # NOQA\n",
            "  File \"/usr/local/lib/python3.12/dist-packages/cupyx/scipy/sparse/_dia.py\", line 2, in <module>\n",
            "    import scipy.sparse\n",
            "  File \"/usr/local/lib/python3.12/dist-packages/scipy/sparse/__init__.py\", line 274, in <module>\n",
            "    from ._csr import *\n",
            "  File \"/usr/local/lib/python3.12/dist-packages/scipy/sparse/_csr.py\", line 11, in <module>\n",
            "    from ._sparsetools import (csr_tocsc, csr_tobsr, csr_count_blocks,\n",
            "Traceback (most recent call last):\n",
            "  File \"/usr/local/lib/python3.12/dist-packages/numpy/core/_multiarray_umath.py\", line 46, in __getattr__\n",
            "    raise ImportError(msg)\n",
            "ImportError: \n",
            "A module that was compiled using NumPy 1.x cannot be run in\n",
            "NumPy 2.3.4 as it may crash. To support both 1.x and 2.x\n",
            "versions of NumPy, modules must be compiled with NumPy 2.0.\n",
            "Some module may need to rebuild instead e.g. with 'pybind11>=2.12'.\n",
            "\n",
            "If you are a user of the module, the easiest solution will be to\n",
            "downgrade to 'numpy<2' or try to upgrade the affected module.\n",
            "We expect that some modules will need time to support NumPy 2.\n",
            "\n",
            "\n",
            "Traceback (most recent call last):\n",
            "  File \"<frozen runpy>\", line 189, in _run_module_as_main\n",
            "  File \"<frozen runpy>\", line 148, in _get_module_details\n",
            "  File \"<frozen runpy>\", line 112, in _get_module_details\n",
            "  File \"/usr/local/lib/python3.12/dist-packages/spacy/__init__.py\", line 6, in <module>\n",
            "    from .errors import setup_default_warnings\n",
            "  File \"/usr/local/lib/python3.12/dist-packages/spacy/errors.py\", line 3, in <module>\n",
            "    from .compat import Literal\n",
            "  File \"/usr/local/lib/python3.12/dist-packages/spacy/compat.py\", line 4, in <module>\n",
            "    from thinc.util import copy_array\n",
            "  File \"/usr/local/lib/python3.12/dist-packages/thinc/__init__.py\", line 5, in <module>\n",
            "    from .config import registry\n",
            "  File \"/usr/local/lib/python3.12/dist-packages/thinc/config.py\", line 2, in <module>\n",
            "    import confection\n",
            "  File \"/usr/local/lib/python3.12/dist-packages/confection/__init__.py\", line 35, in <module>\n",
            "    import srsly\n",
            "  File \"/usr/local/lib/python3.12/dist-packages/srsly/__init__.py\", line 5, in <module>\n",
            "    from ._msgpack_api import read_msgpack, write_msgpack, msgpack_dumps, msgpack_loads\n",
            "  File \"/usr/local/lib/python3.12/dist-packages/srsly/_msgpack_api.py\", line 3, in <module>\n",
            "    from . import msgpack\n",
            "  File \"/usr/local/lib/python3.12/dist-packages/srsly/msgpack/__init__.py\", line 18, in <module>\n",
            "    from ._msgpack_numpy import encode_numpy as _encode_numpy\n",
            "  File \"/usr/local/lib/python3.12/dist-packages/srsly/msgpack/_msgpack_numpy.py\", line 19, in <module>\n",
            "    import cupy\n",
            "  File \"/usr/local/lib/python3.12/dist-packages/cupy/__init__.py\", line 527, in <module>\n",
            "    from cupy.lib._polynomial import poly1d  # NOQA\n",
            "    ^^^^^^^^^^^^^^^^^^^^^^^^^^^^^^^^^^^^^^^\n",
            "  File \"cupy/lib/_polynomial.pyx\", line 8, in init cupy.lib._polynomial\n",
            "  File \"/usr/local/lib/python3.12/dist-packages/cupy/lib/_routines_poly.py\", line 8, in <module>\n",
            "    import cupyx.scipy.fft\n",
            "  File \"/usr/local/lib/python3.12/dist-packages/cupyx/scipy/fft/__init__.py\", line 2, in <module>\n",
            "    from cupyx.scipy.fft._fft import (\n",
            "  File \"/usr/local/lib/python3.12/dist-packages/cupyx/scipy/fft/_fft.py\", line 15, in <module>\n",
            "    import scipy.fft as _scipy_fft\n",
            "  File \"/usr/local/lib/python3.12/dist-packages/scipy/fft/__init__.py\", line 90, in <module>\n",
            "    from ._fftlog import fhtoffset\n",
            "  File \"/usr/local/lib/python3.12/dist-packages/scipy/fft/_fftlog.py\", line 11, in <module>\n",
            "    from ..special import loggamma, poch\n",
            "  File \"/usr/local/lib/python3.12/dist-packages/scipy/special/__init__.py\", line 772, in <module>\n",
            "    from . import _ufuncs\n",
            "  File \"scipy/special/_ufuncs.pyx\", line 1, in init scipy.special._ufuncs\n",
            "ValueError: numpy.dtype size changed, may indicate binary incompatibility. Expected 96 from C header, got 88 from PyObject\n"
          ]
        }
      ]
    },
    {
      "cell_type": "code",
      "source": [
        "# carregando o modelo pré-treinado\n",
        "import spacy\n",
        "nlp = spacy.load('pt_core_news_sm')"
      ],
      "metadata": {
        "id": "1tb9woSV0Y9d"
      },
      "execution_count": 47,
      "outputs": []
    },
    {
      "cell_type": "code",
      "source": [
        "from spacy.lang.pt.examples import sentences\n",
        "\n",
        "# alguns exemplos fornecidos pela própia biblioteca\n",
        "for s in sentences:\n",
        "  print(s, '\\n')\n",
        "\n"
      ],
      "metadata": {
        "colab": {
          "base_uri": "https://localhost:8080/"
        },
        "id": "Fr8kivRF03Rq",
        "outputId": "838450c3-356a-4322-84af-004ce1121e7a"
      },
      "execution_count": 48,
      "outputs": [
        {
          "output_type": "stream",
          "name": "stdout",
          "text": [
            "Apple está querendo comprar uma startup do Reino Unido por 100 milhões de dólares \n",
            "\n",
            "Carros autônomos empurram a responsabilidade do seguro para os fabricantes.São Francisco considera banir os robôs de entrega que andam pelas calçadas \n",
            "\n",
            "Londres é a maior cidade do Reino Unido \n",
            "\n"
          ]
        }
      ]
    },
    {
      "cell_type": "code",
      "source": [
        "# criando o objeto spacy\n",
        "nlp = spacy.load(\"pt_core_news_sm\")\n",
        "doc = nlp(sentences[0])\n",
        "print(doc.text)"
      ],
      "metadata": {
        "colab": {
          "base_uri": "https://localhost:8080/"
        },
        "id": "WxOTk9T31W0t",
        "outputId": "1b867ac9-d0df-4761-ddcd-4c57601b683e"
      },
      "execution_count": 49,
      "outputs": [
        {
          "output_type": "stream",
          "name": "stdout",
          "text": [
            "Apple está querendo comprar uma startup do Reino Unido por 100 milhões de dólares\n"
          ]
        }
      ]
    },
    {
      "cell_type": "markdown",
      "source": [
        "**TOKENTIZAÇÃO**"
      ],
      "metadata": {
        "id": "toGp6ZWX5v39"
      }
    },
    {
      "cell_type": "code",
      "source": [
        "# Tokentização\n",
        "for token in doc:\n",
        "  print(token.text)"
      ],
      "metadata": {
        "colab": {
          "base_uri": "https://localhost:8080/"
        },
        "id": "MBNuoL741tGc",
        "outputId": "b8efe730-f4be-4256-e100-88dc0fb404ad"
      },
      "execution_count": 50,
      "outputs": [
        {
          "output_type": "stream",
          "name": "stdout",
          "text": [
            "Apple\n",
            "está\n",
            "querendo\n",
            "comprar\n",
            "uma\n",
            "startup\n",
            "do\n",
            "Reino\n",
            "Unido\n",
            "por\n",
            "100\n",
            "milhões\n",
            "de\n",
            "dólares\n"
          ]
        }
      ]
    },
    {
      "cell_type": "code",
      "source": [
        "for token in doc:\n",
        "  print(token.text, token.lemma_)\n"
      ],
      "metadata": {
        "colab": {
          "base_uri": "https://localhost:8080/"
        },
        "id": "MzYVt-yD14C9",
        "outputId": "07d3f59c-7e51-4d97-8165-7c53463a2c0b"
      },
      "execution_count": 51,
      "outputs": [
        {
          "output_type": "stream",
          "name": "stdout",
          "text": [
            "Apple Apple\n",
            "está estar\n",
            "querendo querer\n",
            "comprar comprar\n",
            "uma um\n",
            "startup startup\n",
            "do de o\n",
            "Reino Reino\n",
            "Unido Unido\n",
            "por por\n",
            "100 100\n",
            "milhões milhão\n",
            "de de\n",
            "dólares dólar\n"
          ]
        }
      ]
    },
    {
      "cell_type": "code",
      "source": [
        "for ent in doc.ents:\n",
        "  print(ent.text, ent.label_)"
      ],
      "metadata": {
        "colab": {
          "base_uri": "https://localhost:8080/"
        },
        "id": "snW8puc72GFM",
        "outputId": "f1f23bf3-9378-426f-fde0-feeba5af06e5"
      },
      "execution_count": 52,
      "outputs": [
        {
          "output_type": "stream",
          "name": "stdout",
          "text": [
            "Apple ORG\n",
            "Reino Unido LOC\n"
          ]
        }
      ]
    },
    {
      "cell_type": "code",
      "source": [
        "for token in doc:\n",
        "  print(token.text, token.pos_)"
      ],
      "metadata": {
        "colab": {
          "base_uri": "https://localhost:8080/"
        },
        "id": "ko3yegvj2POO",
        "outputId": "59462f4c-ed40-48aa-9b55-b7b4f379bac9"
      },
      "execution_count": 53,
      "outputs": [
        {
          "output_type": "stream",
          "name": "stdout",
          "text": [
            "Apple PROPN\n",
            "está AUX\n",
            "querendo VERB\n",
            "comprar VERB\n",
            "uma DET\n",
            "startup NOUN\n",
            "do ADP\n",
            "Reino PROPN\n",
            "Unido PROPN\n",
            "por ADP\n",
            "100 NUM\n",
            "milhões NUM\n",
            "de ADP\n",
            "dólares NOUN\n"
          ]
        }
      ]
    },
    {
      "cell_type": "markdown",
      "source": [
        "*Enelvo*\n",
        "\n",
        "\n",
        "*   normaliza textos;\n",
        "*   corrije abreviações e erros ortográficos;\n",
        "* captaliza letras no começo das frases, nomes própios e acrônimos;\n",
        "* função própia para remover pontuações e emojis.\n",
        "\n"
      ],
      "metadata": {
        "id": "Ik-bvIZk2gTR"
      }
    },
    {
      "cell_type": "code",
      "source": [
        "!pip install enelvo"
      ],
      "metadata": {
        "colab": {
          "base_uri": "https://localhost:8080/",
          "height": 530
        },
        "id": "LDrKY8Cf2YcS",
        "outputId": "444c1edc-09a2-435c-d7e1-c8b7c224a993",
        "collapsed": true
      },
      "execution_count": 3,
      "outputs": [
        {
          "output_type": "stream",
          "name": "stdout",
          "text": [
            "Requirement already satisfied: enelvo in /usr/local/lib/python3.12/dist-packages (0.15)\n",
            "Requirement already satisfied: editdistance>=0.6.0 in /usr/local/lib/python3.12/dist-packages (from enelvo) (0.8.1)\n",
            "Requirement already satisfied: emoji==2.2.0 in /usr/local/lib/python3.12/dist-packages (from enelvo) (2.2.0)\n",
            "Requirement already satisfied: gensim>=4.1.2 in /usr/local/lib/python3.12/dist-packages (from enelvo) (4.3.3)\n",
            "Requirement already satisfied: numpy>=1.19.5 in /usr/local/lib/python3.12/dist-packages (from enelvo) (2.3.4)\n",
            "Requirement already satisfied: tabulate>=0.8.9 in /usr/local/lib/python3.12/dist-packages (from enelvo) (0.9.0)\n",
            "Collecting numpy>=1.19.5 (from enelvo)\n",
            "  Using cached numpy-1.26.4-cp312-cp312-manylinux_2_17_x86_64.manylinux2014_x86_64.whl.metadata (61 kB)\n",
            "Requirement already satisfied: scipy<1.14.0,>=1.7.0 in /usr/local/lib/python3.12/dist-packages (from gensim>=4.1.2->enelvo) (1.11.4)\n",
            "Requirement already satisfied: smart-open>=1.8.1 in /usr/local/lib/python3.12/dist-packages (from gensim>=4.1.2->enelvo) (7.3.1)\n",
            "Requirement already satisfied: wrapt in /usr/local/lib/python3.12/dist-packages (from smart-open>=1.8.1->gensim>=4.1.2->enelvo) (1.17.3)\n",
            "Using cached numpy-1.26.4-cp312-cp312-manylinux_2_17_x86_64.manylinux2014_x86_64.whl (18.0 MB)\n",
            "Installing collected packages: numpy\n",
            "  Attempting uninstall: numpy\n",
            "    Found existing installation: numpy 2.3.4\n",
            "    Uninstalling numpy-2.3.4:\n",
            "      Successfully uninstalled numpy-2.3.4\n",
            "\u001b[31mERROR: pip's dependency resolver does not currently take into account all the packages that are installed. This behaviour is the source of the following dependency conflicts.\n",
            "opencv-python-headless 4.12.0.88 requires numpy<2.3.0,>=2; python_version >= \"3.9\", but you have numpy 1.26.4 which is incompatible.\n",
            "tsfresh 0.21.1 requires scipy>=1.14.0; python_version >= \"3.10\", but you have scipy 1.11.4 which is incompatible.\n",
            "thinc 8.3.6 requires numpy<3.0.0,>=2.0.0, but you have numpy 1.26.4 which is incompatible.\n",
            "opencv-python 4.12.0.88 requires numpy<2.3.0,>=2; python_version >= \"3.9\", but you have numpy 1.26.4 which is incompatible.\n",
            "opencv-contrib-python 4.12.0.88 requires numpy<2.3.0,>=2; python_version >= \"3.9\", but you have numpy 1.26.4 which is incompatible.\u001b[0m\u001b[31m\n",
            "\u001b[0mSuccessfully installed numpy-1.26.4\n"
          ]
        },
        {
          "output_type": "display_data",
          "data": {
            "application/vnd.colab-display-data+json": {
              "pip_warning": {
                "packages": [
                  "numpy"
                ]
              },
              "id": "4a64bf4f537b47739648ad96b9a84635"
            }
          },
          "metadata": {}
        }
      ]
    },
    {
      "cell_type": "code",
      "source": [
        "from enelvo.normaliser import Normaliser\n",
        "\n",
        "# instaciando\n",
        "norm= Normaliser(tokenizer='readable')\n",
        "\n",
        "msg = 'Até hoje vc n me respondeu. O que houve?'\n",
        "resp = norm.normalise(msg)\n",
        "print(resp)"
      ],
      "metadata": {
        "colab": {
          "base_uri": "https://localhost:8080/"
        },
        "id": "P8nDndV93anF",
        "outputId": "a001a9d4-0db0-43ad-d5d8-dac0de59816a"
      },
      "execution_count": 1,
      "outputs": [
        {
          "output_type": "stream",
          "name": "stdout",
          "text": [
            "até hoje você não me respondeu . o que houve ?\n"
          ]
        }
      ]
    },
    {
      "cell_type": "code",
      "source": [
        "normalizador = Normaliser(tokenizer='readable', capitalize_inis=True,\n",
        "                          capitalize_pns= True, capitalize_acs=True,\n",
        "                          sanitize=True)\n",
        "\n",
        "msg = 'A maria foi ao shopp pq estava triste, acho q hj foi um dia dificiu'\n",
        "resp = normalizador.normalise(msg)\n",
        "print(resp)"
      ],
      "metadata": {
        "colab": {
          "base_uri": "https://localhost:8080/"
        },
        "id": "8tRfwxVD4JbP",
        "outputId": "4d893594-19af-496a-edcd-8e4ec13ed526"
      },
      "execution_count": 2,
      "outputs": [
        {
          "output_type": "stream",
          "name": "stdout",
          "text": [
            "A Maria foi ao shopping porque estava triste acho que hoje foi um dia difícil\n"
          ]
        }
      ]
    }
  ]
}