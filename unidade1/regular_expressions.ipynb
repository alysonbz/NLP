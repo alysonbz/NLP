{
 "cells": [
  {
   "cell_type": "code",
   "execution_count": 19,
   "id": "588c61e0",
   "metadata": {},
   "outputs": [],
   "source": [
    "import re"
   ]
  },
  {
   "cell_type": "markdown",
   "id": "eb859714",
   "metadata": {},
   "source": [
    "## re.match\n",
    "\n",
    "Se zero ou mais caracteres no início da string corresponderem ao padrão pattern da expressão regular, retorna um objeto correspondência encontrado. Retorna None se a string não corresponder ao padrão; observe que isso é diferente de uma correspondência de comprimento zero."
   ]
  },
  {
   "cell_type": "code",
   "execution_count": 20,
   "id": "6751d50c",
   "metadata": {},
   "outputs": [
    {
     "name": "stdout",
     "output_type": "stream",
     "text": [
      "<re.Match object; span=(0, 9), match='mineracao'>\n"
     ]
    }
   ],
   "source": [
    "resp = re.match('mineracao', 'mineracao de dados')\n",
    "print(resp)"
   ]
  },
  {
   "cell_type": "code",
   "execution_count": 21,
   "id": "d98ceb3c",
   "metadata": {},
   "outputs": [
    {
     "name": "stdout",
     "output_type": "stream",
     "text": [
      "None\n"
     ]
    }
   ],
   "source": [
    "resp = re.match('dados', 'mineracao de dados')\n",
    "print(resp)"
   ]
  },
  {
   "cell_type": "code",
   "execution_count": 22,
   "id": "e6dc53c1",
   "metadata": {},
   "outputs": [
    {
     "name": "stdout",
     "output_type": "stream",
     "text": [
      "<re.Match object; span=(0, 6), match='semana'>\n"
     ]
    }
   ],
   "source": [
    "word_regex = '\\w+'\n",
    "resp = re.match(word_regex, 'semana de aula')\n",
    "print(resp)"
   ]
  },
  {
   "cell_type": "code",
   "execution_count": 23,
   "id": "f1fa5759",
   "metadata": {},
   "outputs": [
    {
     "name": "stdout",
     "output_type": "stream",
     "text": [
      "<re.Match object; span=(0, 1), match='s'>\n"
     ]
    }
   ],
   "source": [
    "resp = re.match(word_regex, 's emana de aula')\n",
    "print(resp)"
   ]
  },
  {
   "cell_type": "code",
   "execution_count": 24,
   "id": "cd8a4ba3",
   "metadata": {},
   "outputs": [
    {
     "name": "stdout",
     "output_type": "stream",
     "text": [
      "<re.Match object; span=(0, 1), match='s'>\n"
     ]
    }
   ],
   "source": [
    "word_regex = '\\w'\n",
    "resp = re.match(word_regex, 'semana de aula')\n",
    "print(resp)"
   ]
  },
  {
   "cell_type": "code",
   "execution_count": 25,
   "id": "35dfcf56",
   "metadata": {},
   "outputs": [
    {
     "name": "stdout",
     "output_type": "stream",
     "text": [
      "None\n"
     ]
    }
   ],
   "source": [
    "word_regex = '\\d'\n",
    "resp = re.match(word_regex, 'semana de aula')\n",
    "print(resp)"
   ]
  },
  {
   "cell_type": "code",
   "execution_count": 26,
   "id": "71397ace",
   "metadata": {},
   "outputs": [
    {
     "name": "stdout",
     "output_type": "stream",
     "text": [
      "<re.Match object; span=(0, 2), match='42'>\n"
     ]
    }
   ],
   "source": [
    "word_regex = '\\d+'\n",
    "resp = re.match(word_regex, '42semana de aula')\n",
    "print(resp)"
   ]
  },
  {
   "cell_type": "code",
   "execution_count": 27,
   "id": "ad2de65c",
   "metadata": {},
   "outputs": [
    {
     "name": "stdout",
     "output_type": "stream",
     "text": [
      "Padrão não encontrado no inicio da string\n"
     ]
    }
   ],
   "source": [
    "padrao = r'Universidade'\n",
    "texto = 'universidade federal do ceara'\n",
    "\n",
    "resultado = re.match(padrao, texto)\n",
    "\n",
    "if resultado:\n",
    "    print(\"Padrão encontrado no inicio da string\")\n",
    "else:\n",
    "    print(\"Padrão não encontrado no inicio da string\")"
   ]
  },
  {
   "cell_type": "code",
   "execution_count": 28,
   "id": "ccb9b5a6",
   "metadata": {},
   "outputs": [
    {
     "name": "stdout",
     "output_type": "stream",
     "text": [
      "123.456.789-00 é um CPF válido.\n"
     ]
    }
   ],
   "source": [
    "def validar_cpf(cpf):\n",
    "    padrao = r'^\\d{3}\\.\\d{3}\\.\\d{3}\\-\\d{2}$'\n",
    "    return bool(re.match(padrao, cpf))\n",
    "\n",
    "cpf = '123.456.789-00'\n",
    "\n",
    "if validar_cpf(cpf):\n",
    "    print(f\"{cpf} é um CPF válido.\")\n",
    "else:\n",
    "    print(f\"{cpf} não é um CPF válido.\")"
   ]
  },
  {
   "cell_type": "markdown",
   "id": "0f5eae78",
   "metadata": {},
   "source": [
    "## re.split\n",
    "Divide a string pelas ocorrências do padrão pattern. Se parênteses de captura forem usados em pattern, o texto de todos os grupos no padrão também será retornado como parte da lista resultante. Se maxsplit for diferente de zero, no máximo maxsplit divisões ocorrerão e o restante da string será retornado como o elemento final da lista."
   ]
  },
  {
   "cell_type": "code",
   "execution_count": 29,
   "id": "ec595f16",
   "metadata": {},
   "outputs": [
    {
     "name": "stdout",
     "output_type": "stream",
     "text": [
      "['semana', 'de', 'aula']\n"
     ]
    }
   ],
   "source": [
    "word_regex = \"\\s+\"\n",
    "resp = re.split(word_regex, 'semana de aula')\n",
    "print(resp)"
   ]
  },
  {
   "cell_type": "code",
   "execution_count": 30,
   "id": "8168421f",
   "metadata": {},
   "outputs": [
    {
     "name": "stdout",
     "output_type": "stream",
     "text": [
      "['semana quente', ' de aula']\n"
     ]
    }
   ],
   "source": [
    "word_regex = r\"\\!\"\n",
    "resp = re.split(word_regex, 'semana quente! de aula')\n",
    "print(resp)"
   ]
  },
  {
   "cell_type": "code",
   "execution_count": 31,
   "id": "f2db5c85",
   "metadata": {},
   "outputs": [
    {
     "name": "stdout",
     "output_type": "stream",
     "text": [
      "['S', '', '', '', '', ' Q', '', '', '', '', '! D', ' A', '', '', '']\n"
     ]
    }
   ],
   "source": [
    "word_regex = r\"[a-z]\"\n",
    "resp = re.split(word_regex, 'Semana Quente! De Aula')\n",
    "print(resp)"
   ]
  },
  {
   "cell_type": "code",
   "execution_count": 32,
   "id": "b14179b8",
   "metadata": {},
   "outputs": [
    {
     "name": "stdout",
     "output_type": "stream",
     "text": [
      "['S', ' Q', '! De A', '']\n"
     ]
    }
   ],
   "source": [
    "word_regex = r\"[a-z]\\w+\"\n",
    "resp = re.split(word_regex, 'Semana Quente! De Aula')\n",
    "print(resp)"
   ]
  },
  {
   "cell_type": "markdown",
   "id": "78f4f9da",
   "metadata": {},
   "source": [
    "## re.findall\n",
    "Retorna todas as correspondências não sobrepostas do padrão em string, como uma lista de strings ou tuplas. A string é verificada da esquerda para a direita e as correspondências são retornadas na ordem encontrada. Correspondências vazias são incluídas no resultado.\n",
    "\n",
    "O resultado depende do número de grupos de captura no padrão. Se não houver grupos, retorne uma lista de strings que correspondem a todo o padrão. Se houver exatamente um grupo, retorne uma lista de strings correspondentes a esse grupo. Se vários grupos estiverem presentes, retorne uma lista de tuplas de strings correspondentes aos grupos. Grupos sem captura não afetam a forma do resultado."
   ]
  },
  {
   "cell_type": "code",
   "execution_count": 33,
   "id": "971b792d",
   "metadata": {},
   "outputs": [
    {
     "name": "stdout",
     "output_type": "stream",
     "text": [
      "['emana', 'uente', 'ula']\n"
     ]
    }
   ],
   "source": [
    "word_regex = r\"[a-z]\\w+\"\n",
    "resp = re.findall(word_regex, 'Semana Quente! De Aula')\n",
    "print(resp)"
   ]
  },
  {
   "cell_type": "code",
   "execution_count": 34,
   "id": "3323b88e",
   "metadata": {},
   "outputs": [
    {
     "name": "stdout",
     "output_type": "stream",
     "text": [
      "Números encontrados: ['123', '456']\n"
     ]
    }
   ],
   "source": [
    "padrao = r\"\\d+\"\n",
    "texto = \"123 abc 456 def\"\n",
    "\n",
    "numeros = re.findall(padrao, texto)\n",
    "\n",
    "print(\"Números encontrados:\", numeros)"
   ]
  },
  {
   "cell_type": "markdown",
   "id": "c5abee04",
   "metadata": {},
   "source": [
    "## re.search\n",
    "Percorre a string procurando o primeiro local onde o padrão pattern de expressão regular produz uma correspondência e retorna um objeto correspondência encontrado. Retorna None se nenhuma posição na string corresponder ao padrão; observe que isso é diferente de encontrar uma correspondência de comprimento zero em algum ponto da string."
   ]
  },
  {
   "cell_type": "code",
   "execution_count": null,
   "id": "18975962",
   "metadata": {},
   "outputs": [],
   "source": []
  }
 ],
 "metadata": {
  "kernelspec": {
   "display_name": "venv",
   "language": "python",
   "name": "python3"
  },
  "language_info": {
   "codemirror_mode": {
    "name": "ipython",
    "version": 3
   },
   "file_extension": ".py",
   "mimetype": "text/x-python",
   "name": "python",
   "nbconvert_exporter": "python",
   "pygments_lexer": "ipython3",
   "version": "3.10.9"
  }
 },
 "nbformat": 4,
 "nbformat_minor": 5
}
